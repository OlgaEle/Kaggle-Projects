{
 "cells": [
  {
   "cell_type": "markdown",
   "id": "64e581ed",
   "metadata": {
    "papermill": {
     "duration": 0.015179,
     "end_time": "2024-02-22T15:06:35.946725",
     "exception": false,
     "start_time": "2024-02-22T15:06:35.931546",
     "status": "completed"
    },
    "tags": []
   },
   "source": [
    "# Table of contents 📚 <a class='anchor' id='top'></a>\n",
    "\n",
    "* [Dataset Overview](#chapter1)\n",
    "* [Exploratory Data Analysis (EDA)](#chapter2)\n",
    "* [Text Preprocessing](#chapter3)\n",
    "    * [Lowercase](#section_3_1)\n",
    "    * [Convert numbers into text](#section_3_2)\n",
    "    * [Remove punctuation](#section_3_3)\n",
    "    * [Remove stopwords](#section_3_4)\n",
    "    * [Remove whitespaces](#section_3_5)\n",
    "    * [Lemmatization](#section_3_6)\n",
    "    * [Wordcloud](#section_3_7)\n",
    "* [Sentiment Analysis](#chapter4)"
   ]
  },
  {
   "cell_type": "markdown",
   "id": "c389398d",
   "metadata": {
    "papermill": {
     "duration": 0.014739,
     "end_time": "2024-02-22T15:06:35.977835",
     "exception": false,
     "start_time": "2024-02-22T15:06:35.963096",
     "status": "completed"
    },
    "tags": []
   },
   "source": [
    "# 🍕 Dataset Overview ⭐️ <a class=\"anchor\" id=\"chapter1\"></a>"
   ]
  },
  {
   "cell_type": "markdown",
   "id": "f2cfaa37",
   "metadata": {
    "papermill": {
     "duration": 0.015932,
     "end_time": "2024-02-22T15:06:36.010783",
     "exception": false,
     "start_time": "2024-02-22T15:06:35.994851",
     "status": "completed"
    },
    "tags": []
   },
   "source": [
    "#### The data comes from Google Play and App Store. They were collected from February 12 to 14.\n",
    "\n",
    "#### **Variables**\n",
    "\n",
    "* **date** Date the review was posted\n",
    "* **content** Published review\n",
    "* **score** The number of stars awarded by the user\n",
    "* **userName** Name of the user\n",
    "* **app** Application name\n",
    "* **platform** Google play or App Store\n",
    "* **replyContent** Reply to review\n",
    "* **repliedDate** Publication date response to review\n",
    "* **appVersion** Version of application, not platform"
   ]
  },
  {
   "cell_type": "markdown",
   "id": "004d2666",
   "metadata": {
    "papermill": {
     "duration": 0.01721,
     "end_time": "2024-02-22T15:06:36.044453",
     "exception": false,
     "start_time": "2024-02-22T15:06:36.027243",
     "status": "completed"
    },
    "tags": []
   },
   "source": [
    "<img src=\"https://media.giphy.com/media/v1.Y2lkPTc5MGI3NjExbG5yeWluOXdiaWJpdXEwMzd5b3EwcTl6b3p4ZXN5emZnMzB3dng2aCZlcD12MV9pbnRlcm5hbF9naWZfYnlfaWQmY3Q9Zw/dxPSj5kctYUpXOS4Tp/giphy.gif\">"
   ]
  },
  {
   "cell_type": "markdown",
   "id": "733c0162",
   "metadata": {
    "papermill": {
     "duration": 0.014776,
     "end_time": "2024-02-22T15:06:36.075775",
     "exception": false,
     "start_time": "2024-02-22T15:06:36.060999",
     "status": "completed"
    },
    "tags": []
   },
   "source": [
    "# Exploratory Data Analysis (EDA) ✏️ <a class=\"anchor\" id=\"chapter2\"></a>"
   ]
  },
  {
   "cell_type": "code",
   "execution_count": 1,
   "id": "c2ce7893",
   "metadata": {
    "execution": {
     "iopub.execute_input": "2024-02-22T15:06:36.110604Z",
     "iopub.status.busy": "2024-02-22T15:06:36.109912Z",
     "iopub.status.idle": "2024-02-22T15:06:54.969965Z",
     "shell.execute_reply": "2024-02-22T15:06:54.968954Z"
    },
    "papermill": {
     "duration": 18.881687,
     "end_time": "2024-02-22T15:06:54.973759",
     "exception": false,
     "start_time": "2024-02-22T15:06:36.092072",
     "status": "completed"
    },
    "tags": []
   },
   "outputs": [
    {
     "name": "stdout",
     "output_type": "stream",
     "text": [
      "Collecting inflect\r\n",
      "  Downloading inflect-7.0.0-py3-none-any.whl.metadata (21 kB)\r\n",
      "Requirement already satisfied: pydantic>=1.9.1 in /opt/conda/lib/python3.10/site-packages (from inflect) (2.5.3)\r\n",
      "Requirement already satisfied: typing-extensions in /opt/conda/lib/python3.10/site-packages (from inflect) (4.9.0)\r\n",
      "Requirement already satisfied: annotated-types>=0.4.0 in /opt/conda/lib/python3.10/site-packages (from pydantic>=1.9.1->inflect) (0.6.0)\r\n",
      "Requirement already satisfied: pydantic-core==2.14.6 in /opt/conda/lib/python3.10/site-packages (from pydantic>=1.9.1->inflect) (2.14.6)\r\n",
      "Downloading inflect-7.0.0-py3-none-any.whl (34 kB)\r\n",
      "Installing collected packages: inflect\r\n",
      "Successfully installed inflect-7.0.0\r\n",
      "Note: you may need to restart the kernel to use updated packages.\n"
     ]
    }
   ],
   "source": [
    "pip install inflect"
   ]
  },
  {
   "cell_type": "code",
   "execution_count": 2,
   "id": "6c2dc0db",
   "metadata": {
    "execution": {
     "iopub.execute_input": "2024-02-22T15:06:55.010658Z",
     "iopub.status.busy": "2024-02-22T15:06:55.010162Z",
     "iopub.status.idle": "2024-02-22T15:07:11.728828Z",
     "shell.execute_reply": "2024-02-22T15:07:11.727614Z"
    },
    "papermill": {
     "duration": 16.741756,
     "end_time": "2024-02-22T15:07:11.733923",
     "exception": false,
     "start_time": "2024-02-22T15:06:54.992167",
     "status": "completed"
    },
    "tags": []
   },
   "outputs": [
    {
     "name": "stdout",
     "output_type": "stream",
     "text": [
      "Collecting vaderSentiment\r\n",
      "  Downloading vaderSentiment-3.3.2-py2.py3-none-any.whl (125 kB)\r\n",
      "\u001b[2K     \u001b[90m━━━━━━━━━━━━━━━━━━━━━━━━━━━━━━━━━━━━━━━\u001b[0m \u001b[32m126.0/126.0 kB\u001b[0m \u001b[31m2.1 MB/s\u001b[0m eta \u001b[36m0:00:00\u001b[0m\r\n",
      "\u001b[?25hRequirement already satisfied: requests in /opt/conda/lib/python3.10/site-packages (from vaderSentiment) (2.31.0)\r\n",
      "Requirement already satisfied: charset-normalizer<4,>=2 in /opt/conda/lib/python3.10/site-packages (from requests->vaderSentiment) (3.3.2)\r\n",
      "Requirement already satisfied: idna<4,>=2.5 in /opt/conda/lib/python3.10/site-packages (from requests->vaderSentiment) (3.6)\r\n",
      "Requirement already satisfied: urllib3<3,>=1.21.1 in /opt/conda/lib/python3.10/site-packages (from requests->vaderSentiment) (1.26.18)\r\n",
      "Requirement already satisfied: certifi>=2017.4.17 in /opt/conda/lib/python3.10/site-packages (from requests->vaderSentiment) (2023.11.17)\r\n",
      "Installing collected packages: vaderSentiment\r\n",
      "Successfully installed vaderSentiment-3.3.2\r\n",
      "Note: you may need to restart the kernel to use updated packages.\n"
     ]
    }
   ],
   "source": [
    "pip install vaderSentiment"
   ]
  },
  {
   "cell_type": "code",
   "execution_count": 3,
   "id": "44aedfcc",
   "metadata": {
    "execution": {
     "iopub.execute_input": "2024-02-22T15:07:11.778728Z",
     "iopub.status.busy": "2024-02-22T15:07:11.778259Z",
     "iopub.status.idle": "2024-02-22T15:07:19.777580Z",
     "shell.execute_reply": "2024-02-22T15:07:19.775797Z"
    },
    "papermill": {
     "duration": 8.02409,
     "end_time": "2024-02-22T15:07:19.781539",
     "exception": false,
     "start_time": "2024-02-22T15:07:11.757449",
     "status": "completed"
    },
    "tags": []
   },
   "outputs": [
    {
     "name": "stdout",
     "output_type": "stream",
     "text": [
      "[nltk_data] Downloading package wordnet to /usr/share/nltk_data...\n",
      "[nltk_data]   Package wordnet is already up-to-date!\n",
      "[nltk_data] Downloading package omw-1.4 to /usr/share/nltk_data...\n",
      "Archive:  /usr/share/nltk_data/corpora/wordnet.zip\r\n",
      "   creating: /usr/share/nltk_data/corpora/wordnet/\r\n",
      "  inflating: /usr/share/nltk_data/corpora/wordnet/lexnames  \r\n",
      "  inflating: /usr/share/nltk_data/corpora/wordnet/data.verb  \r\n",
      "  inflating: /usr/share/nltk_data/corpora/wordnet/index.adv  \r\n",
      "  inflating: /usr/share/nltk_data/corpora/wordnet/adv.exc  \r\n",
      "  inflating: /usr/share/nltk_data/corpora/wordnet/index.verb  \r\n",
      "  inflating: /usr/share/nltk_data/corpora/wordnet/cntlist.rev  \r\n",
      "  inflating: /usr/share/nltk_data/corpora/wordnet/data.adj  \r\n",
      "  inflating: /usr/share/nltk_data/corpora/wordnet/index.adj  \r\n",
      "  inflating: /usr/share/nltk_data/corpora/wordnet/LICENSE  \r\n",
      "  inflating: /usr/share/nltk_data/corpora/wordnet/citation.bib  \r\n",
      "  inflating: /usr/share/nltk_data/corpora/wordnet/noun.exc  \r\n",
      "  inflating: /usr/share/nltk_data/corpora/wordnet/verb.exc  \r\n",
      "  inflating: /usr/share/nltk_data/corpora/wordnet/README  \r\n",
      "  inflating: /usr/share/nltk_data/corpora/wordnet/index.sense  \r\n",
      "  inflating: /usr/share/nltk_data/corpora/wordnet/data.noun  \r\n",
      "  inflating: /usr/share/nltk_data/corpora/wordnet/data.adv  \r\n",
      "  inflating: /usr/share/nltk_data/corpora/wordnet/index.noun  \r\n",
      "  inflating: /usr/share/nltk_data/corpora/wordnet/adj.exc  \r\n"
     ]
    }
   ],
   "source": [
    "# Import libraries\n",
    "import numpy as np\n",
    "import pandas as pd\n",
    "from tabulate import tabulate\n",
    "\n",
    "import string\n",
    "import re\n",
    "import warnings\n",
    "warnings.filterwarnings(\"ignore\")\n",
    "\n",
    "import plotly.graph_objects as go\n",
    "import plotly.express as px\n",
    "import matplotlib as mpl\n",
    "import matplotlib.pyplot as plt\n",
    "import seaborn as sns\n",
    "from wordcloud import WordCloud\n",
    "\n",
    "import inflect\n",
    "import nltk\n",
    "from nltk.corpus import stopwords\n",
    "from nltk.tokenize import word_tokenize\n",
    "from nltk.stem.porter import PorterStemmer\n",
    "from nltk.stem import WordNetLemmatizer\n",
    "nltk.download(\"wordnet\")\n",
    "nltk.download(\"omw-1.4\")\n",
    "!unzip /usr/share/nltk_data/corpora/wordnet.zip -d /usr/share/nltk_data/corpora/\n",
    "import vaderSentiment\n",
    "from vaderSentiment.vaderSentiment import SentimentIntensityAnalyzer"
   ]
  },
  {
   "cell_type": "code",
   "execution_count": 4,
   "id": "e6f28024",
   "metadata": {
    "execution": {
     "iopub.execute_input": "2024-02-22T15:07:19.818179Z",
     "iopub.status.busy": "2024-02-22T15:07:19.816925Z",
     "iopub.status.idle": "2024-02-22T15:07:31.427078Z",
     "shell.execute_reply": "2024-02-22T15:07:31.425630Z"
    },
    "papermill": {
     "duration": 11.631949,
     "end_time": "2024-02-22T15:07:31.430066",
     "exception": false,
     "start_time": "2024-02-22T15:07:19.798117",
     "status": "completed"
    },
    "tags": []
   },
   "outputs": [],
   "source": [
    "# Load the dataset\n",
    "file_path = '/kaggle/input/food-delivery-apps-reviews/food_delivery_apps.csv'\n",
    "data = pd.read_csv(file_path)"
   ]
  },
  {
   "cell_type": "code",
   "execution_count": 5,
   "id": "aac54189",
   "metadata": {
    "execution": {
     "iopub.execute_input": "2024-02-22T15:07:31.467382Z",
     "iopub.status.busy": "2024-02-22T15:07:31.465929Z",
     "iopub.status.idle": "2024-02-22T15:07:31.495418Z",
     "shell.execute_reply": "2024-02-22T15:07:31.493625Z"
    },
    "papermill": {
     "duration": 0.051552,
     "end_time": "2024-02-22T15:07:31.498660",
     "exception": false,
     "start_time": "2024-02-22T15:07:31.447108",
     "status": "completed"
    },
    "tags": []
   },
   "outputs": [
    {
     "data": {
      "text/html": [
       "<div>\n",
       "<style scoped>\n",
       "    .dataframe tbody tr th:only-of-type {\n",
       "        vertical-align: middle;\n",
       "    }\n",
       "\n",
       "    .dataframe tbody tr th {\n",
       "        vertical-align: top;\n",
       "    }\n",
       "\n",
       "    .dataframe thead th {\n",
       "        text-align: right;\n",
       "    }\n",
       "</style>\n",
       "<table border=\"1\" class=\"dataframe\">\n",
       "  <thead>\n",
       "    <tr style=\"text-align: right;\">\n",
       "      <th></th>\n",
       "      <th>date</th>\n",
       "      <th>content</th>\n",
       "      <th>score</th>\n",
       "      <th>userName</th>\n",
       "      <th>app</th>\n",
       "      <th>platform</th>\n",
       "      <th>replyContent</th>\n",
       "      <th>repliedDate</th>\n",
       "      <th>appVersion</th>\n",
       "    </tr>\n",
       "  </thead>\n",
       "  <tbody>\n",
       "    <tr>\n",
       "      <th>0</th>\n",
       "      <td>2022-10-20 17:08:18</td>\n",
       "      <td>Being single and traveling a lot for work, all...</td>\n",
       "      <td>5</td>\n",
       "      <td>TBeck-NARC</td>\n",
       "      <td>Bolt Food</td>\n",
       "      <td>App Store</td>\n",
       "      <td>NaN</td>\n",
       "      <td>NaN</td>\n",
       "      <td>NaN</td>\n",
       "    </tr>\n",
       "    <tr>\n",
       "      <th>1</th>\n",
       "      <td>2022-08-19 15:56:51</td>\n",
       "      <td>App is well-designed and nice to use. Only com...</td>\n",
       "      <td>4</td>\n",
       "      <td>henhouse</td>\n",
       "      <td>Bolt Food</td>\n",
       "      <td>App Store</td>\n",
       "      <td>NaN</td>\n",
       "      <td>NaN</td>\n",
       "      <td>NaN</td>\n",
       "    </tr>\n",
       "    <tr>\n",
       "      <th>2</th>\n",
       "      <td>2023-07-26 09:03:32</td>\n",
       "      <td>I’ve had this payment issue for over a month n...</td>\n",
       "      <td>1</td>\n",
       "      <td>hsghdoenvskrbbd</td>\n",
       "      <td>Bolt Food</td>\n",
       "      <td>App Store</td>\n",
       "      <td>NaN</td>\n",
       "      <td>NaN</td>\n",
       "      <td>NaN</td>\n",
       "    </tr>\n",
       "    <tr>\n",
       "      <th>3</th>\n",
       "      <td>2022-11-22 10:00:43</td>\n",
       "      <td>Live activities would be nice instead of getti...</td>\n",
       "      <td>4</td>\n",
       "      <td>Sussy31</td>\n",
       "      <td>Bolt Food</td>\n",
       "      <td>App Store</td>\n",
       "      <td>NaN</td>\n",
       "      <td>NaN</td>\n",
       "      <td>NaN</td>\n",
       "    </tr>\n",
       "    <tr>\n",
       "      <th>4</th>\n",
       "      <td>2023-06-14 09:04:39</td>\n",
       "      <td>After waiting for over an hour for our food an...</td>\n",
       "      <td>1</td>\n",
       "      <td>schalas1985</td>\n",
       "      <td>Bolt Food</td>\n",
       "      <td>App Store</td>\n",
       "      <td>NaN</td>\n",
       "      <td>NaN</td>\n",
       "      <td>NaN</td>\n",
       "    </tr>\n",
       "  </tbody>\n",
       "</table>\n",
       "</div>"
      ],
      "text/plain": [
       "                  date                                            content  \\\n",
       "0  2022-10-20 17:08:18  Being single and traveling a lot for work, all...   \n",
       "1  2022-08-19 15:56:51  App is well-designed and nice to use. Only com...   \n",
       "2  2023-07-26 09:03:32  I’ve had this payment issue for over a month n...   \n",
       "3  2022-11-22 10:00:43  Live activities would be nice instead of getti...   \n",
       "4  2023-06-14 09:04:39  After waiting for over an hour for our food an...   \n",
       "\n",
       "   score         userName        app   platform replyContent repliedDate  \\\n",
       "0      5       TBeck-NARC  Bolt Food  App Store          NaN         NaN   \n",
       "1      4         henhouse  Bolt Food  App Store          NaN         NaN   \n",
       "2      1  hsghdoenvskrbbd  Bolt Food  App Store          NaN         NaN   \n",
       "3      4          Sussy31  Bolt Food  App Store          NaN         NaN   \n",
       "4      1      schalas1985  Bolt Food  App Store          NaN         NaN   \n",
       "\n",
       "  appVersion  \n",
       "0        NaN  \n",
       "1        NaN  \n",
       "2        NaN  \n",
       "3        NaN  \n",
       "4        NaN  "
      ]
     },
     "execution_count": 5,
     "metadata": {},
     "output_type": "execute_result"
    }
   ],
   "source": [
    "# Display the first few rows of the dataset\n",
    "data.head()"
   ]
  },
  {
   "cell_type": "code",
   "execution_count": 6,
   "id": "50ba5c82",
   "metadata": {
    "execution": {
     "iopub.execute_input": "2024-02-22T15:07:31.537007Z",
     "iopub.status.busy": "2024-02-22T15:07:31.536599Z",
     "iopub.status.idle": "2024-02-22T15:07:32.550111Z",
     "shell.execute_reply": "2024-02-22T15:07:32.548581Z"
    },
    "papermill": {
     "duration": 1.035471,
     "end_time": "2024-02-22T15:07:32.553175",
     "exception": false,
     "start_time": "2024-02-22T15:07:31.517704",
     "status": "completed"
    },
    "tags": []
   },
   "outputs": [
    {
     "name": "stdout",
     "output_type": "stream",
     "text": [
      "<class 'pandas.core.frame.DataFrame'>\n",
      "RangeIndex: 1247061 entries, 0 to 1247060\n",
      "Data columns (total 9 columns):\n",
      " #   Column        Non-Null Count    Dtype \n",
      "---  ------        --------------    ----- \n",
      " 0   date          1247061 non-null  object\n",
      " 1   content       1247061 non-null  object\n",
      " 2   score         1247061 non-null  int64 \n",
      " 3   userName      1247061 non-null  object\n",
      " 4   app           1247061 non-null  object\n",
      " 5   platform      1247061 non-null  object\n",
      " 6   replyContent  203760 non-null   object\n",
      " 7   repliedDate   203760 non-null   object\n",
      " 8   appVersion    973010 non-null   object\n",
      "dtypes: int64(1), object(8)\n",
      "memory usage: 85.6+ MB\n"
     ]
    }
   ],
   "source": [
    "# Check the general data info\n",
    "data.info()"
   ]
  },
  {
   "cell_type": "code",
   "execution_count": 7,
   "id": "2e0deeae",
   "metadata": {
    "execution": {
     "iopub.execute_input": "2024-02-22T15:07:32.591764Z",
     "iopub.status.busy": "2024-02-22T15:07:32.591338Z",
     "iopub.status.idle": "2024-02-22T15:07:33.574195Z",
     "shell.execute_reply": "2024-02-22T15:07:33.572435Z"
    },
    "papermill": {
     "duration": 1.005165,
     "end_time": "2024-02-22T15:07:33.577001",
     "exception": false,
     "start_time": "2024-02-22T15:07:32.571836",
     "status": "completed"
    },
    "tags": []
   },
   "outputs": [
    {
     "name": "stdout",
     "output_type": "stream",
     "text": [
      "Missing values found in the dataset.\n"
     ]
    }
   ],
   "source": [
    "# Check for missing values\n",
    "has_missing_values = data.isnull().any().any()\n",
    "\n",
    "if has_missing_values:\n",
    "    print(\"Missing values found in the dataset.\")\n",
    "else:\n",
    "    print(\"No missing values found in the dataset.\")"
   ]
  },
  {
   "cell_type": "code",
   "execution_count": 8,
   "id": "6e98cd8f",
   "metadata": {
    "execution": {
     "iopub.execute_input": "2024-02-22T15:07:33.614942Z",
     "iopub.status.busy": "2024-02-22T15:07:33.614472Z",
     "iopub.status.idle": "2024-02-22T15:07:34.611931Z",
     "shell.execute_reply": "2024-02-22T15:07:34.609495Z"
    },
    "papermill": {
     "duration": 1.020817,
     "end_time": "2024-02-22T15:07:34.615346",
     "exception": false,
     "start_time": "2024-02-22T15:07:33.594529",
     "status": "completed"
    },
    "tags": []
   },
   "outputs": [
    {
     "name": "stdout",
     "output_type": "stream",
     "text": [
      "date             0.000000\n",
      "content          0.000000\n",
      "score            0.000000\n",
      "userName         0.000000\n",
      "app              0.000000\n",
      "platform         0.000000\n",
      "replyContent    83.660783\n",
      "repliedDate     83.660783\n",
      "appVersion      21.975749\n",
      "dtype: float64\n"
     ]
    }
   ],
   "source": [
    "# Check the percentage of the missing values in each column\n",
    "percent_missing = data.isnull().sum() * 100 / len(data)\n",
    "\n",
    "print(percent_missing)"
   ]
  },
  {
   "cell_type": "markdown",
   "id": "9c891884",
   "metadata": {
    "papermill": {
     "duration": 0.016948,
     "end_time": "2024-02-22T15:07:34.649326",
     "exception": false,
     "start_time": "2024-02-22T15:07:34.632378",
     "status": "completed"
    },
    "tags": []
   },
   "source": [
    "#### 🔎 We can see that the variables with almost all rows with missing values are \"replyContent\" and \"repliedDate\". We will decide to drop these 2 columns because we don't want to use them in our analysis."
   ]
  },
  {
   "cell_type": "code",
   "execution_count": 9,
   "id": "791515e5",
   "metadata": {
    "execution": {
     "iopub.execute_input": "2024-02-22T15:07:34.689116Z",
     "iopub.status.busy": "2024-02-22T15:07:34.688676Z",
     "iopub.status.idle": "2024-02-22T15:07:34.826874Z",
     "shell.execute_reply": "2024-02-22T15:07:34.825594Z"
    },
    "papermill": {
     "duration": 0.161221,
     "end_time": "2024-02-22T15:07:34.830221",
     "exception": false,
     "start_time": "2024-02-22T15:07:34.669000",
     "status": "completed"
    },
    "tags": []
   },
   "outputs": [],
   "source": [
    "# Remove \"replyContent\" and \"repliedDate\" columns\n",
    "data.drop(['replyContent', 'repliedDate'], axis=1, inplace=True)"
   ]
  },
  {
   "cell_type": "code",
   "execution_count": 10,
   "id": "cc289c61",
   "metadata": {
    "execution": {
     "iopub.execute_input": "2024-02-22T15:07:34.867431Z",
     "iopub.status.busy": "2024-02-22T15:07:34.866574Z",
     "iopub.status.idle": "2024-02-22T15:07:36.551851Z",
     "shell.execute_reply": "2024-02-22T15:07:36.550325Z"
    },
    "papermill": {
     "duration": 1.707528,
     "end_time": "2024-02-22T15:07:36.555554",
     "exception": false,
     "start_time": "2024-02-22T15:07:34.848026",
     "status": "completed"
    },
    "tags": []
   },
   "outputs": [],
   "source": [
    "# Replace the missing values of the \"appVersion\" column\n",
    "data.replace(np.nan, 'Do not know', inplace=True)"
   ]
  },
  {
   "cell_type": "code",
   "execution_count": 11,
   "id": "a518381d",
   "metadata": {
    "execution": {
     "iopub.execute_input": "2024-02-22T15:07:36.596653Z",
     "iopub.status.busy": "2024-02-22T15:07:36.596239Z",
     "iopub.status.idle": "2024-02-22T15:07:36.611649Z",
     "shell.execute_reply": "2024-02-22T15:07:36.610300Z"
    },
    "papermill": {
     "duration": 0.039276,
     "end_time": "2024-02-22T15:07:36.614201",
     "exception": false,
     "start_time": "2024-02-22T15:07:36.574925",
     "status": "completed"
    },
    "tags": []
   },
   "outputs": [
    {
     "data": {
      "text/html": [
       "<div>\n",
       "<style scoped>\n",
       "    .dataframe tbody tr th:only-of-type {\n",
       "        vertical-align: middle;\n",
       "    }\n",
       "\n",
       "    .dataframe tbody tr th {\n",
       "        vertical-align: top;\n",
       "    }\n",
       "\n",
       "    .dataframe thead th {\n",
       "        text-align: right;\n",
       "    }\n",
       "</style>\n",
       "<table border=\"1\" class=\"dataframe\">\n",
       "  <thead>\n",
       "    <tr style=\"text-align: right;\">\n",
       "      <th></th>\n",
       "      <th>date</th>\n",
       "      <th>content</th>\n",
       "      <th>score</th>\n",
       "      <th>userName</th>\n",
       "      <th>app</th>\n",
       "      <th>platform</th>\n",
       "      <th>appVersion</th>\n",
       "    </tr>\n",
       "  </thead>\n",
       "  <tbody>\n",
       "    <tr>\n",
       "      <th>0</th>\n",
       "      <td>2022-10-20 17:08:18</td>\n",
       "      <td>Being single and traveling a lot for work, all...</td>\n",
       "      <td>5</td>\n",
       "      <td>TBeck-NARC</td>\n",
       "      <td>Bolt Food</td>\n",
       "      <td>App Store</td>\n",
       "      <td>Do not know</td>\n",
       "    </tr>\n",
       "    <tr>\n",
       "      <th>1</th>\n",
       "      <td>2022-08-19 15:56:51</td>\n",
       "      <td>App is well-designed and nice to use. Only com...</td>\n",
       "      <td>4</td>\n",
       "      <td>henhouse</td>\n",
       "      <td>Bolt Food</td>\n",
       "      <td>App Store</td>\n",
       "      <td>Do not know</td>\n",
       "    </tr>\n",
       "    <tr>\n",
       "      <th>2</th>\n",
       "      <td>2023-07-26 09:03:32</td>\n",
       "      <td>I’ve had this payment issue for over a month n...</td>\n",
       "      <td>1</td>\n",
       "      <td>hsghdoenvskrbbd</td>\n",
       "      <td>Bolt Food</td>\n",
       "      <td>App Store</td>\n",
       "      <td>Do not know</td>\n",
       "    </tr>\n",
       "    <tr>\n",
       "      <th>3</th>\n",
       "      <td>2022-11-22 10:00:43</td>\n",
       "      <td>Live activities would be nice instead of getti...</td>\n",
       "      <td>4</td>\n",
       "      <td>Sussy31</td>\n",
       "      <td>Bolt Food</td>\n",
       "      <td>App Store</td>\n",
       "      <td>Do not know</td>\n",
       "    </tr>\n",
       "    <tr>\n",
       "      <th>4</th>\n",
       "      <td>2023-06-14 09:04:39</td>\n",
       "      <td>After waiting for over an hour for our food an...</td>\n",
       "      <td>1</td>\n",
       "      <td>schalas1985</td>\n",
       "      <td>Bolt Food</td>\n",
       "      <td>App Store</td>\n",
       "      <td>Do not know</td>\n",
       "    </tr>\n",
       "  </tbody>\n",
       "</table>\n",
       "</div>"
      ],
      "text/plain": [
       "                  date                                            content  \\\n",
       "0  2022-10-20 17:08:18  Being single and traveling a lot for work, all...   \n",
       "1  2022-08-19 15:56:51  App is well-designed and nice to use. Only com...   \n",
       "2  2023-07-26 09:03:32  I’ve had this payment issue for over a month n...   \n",
       "3  2022-11-22 10:00:43  Live activities would be nice instead of getti...   \n",
       "4  2023-06-14 09:04:39  After waiting for over an hour for our food an...   \n",
       "\n",
       "   score         userName        app   platform   appVersion  \n",
       "0      5       TBeck-NARC  Bolt Food  App Store  Do not know  \n",
       "1      4         henhouse  Bolt Food  App Store  Do not know  \n",
       "2      1  hsghdoenvskrbbd  Bolt Food  App Store  Do not know  \n",
       "3      4          Sussy31  Bolt Food  App Store  Do not know  \n",
       "4      1      schalas1985  Bolt Food  App Store  Do not know  "
      ]
     },
     "execution_count": 11,
     "metadata": {},
     "output_type": "execute_result"
    }
   ],
   "source": [
    "# Check the data again\n",
    "data.head(5)"
   ]
  },
  {
   "cell_type": "code",
   "execution_count": 12,
   "id": "c4777447",
   "metadata": {
    "execution": {
     "iopub.execute_input": "2024-02-22T15:07:36.654383Z",
     "iopub.status.busy": "2024-02-22T15:07:36.653922Z",
     "iopub.status.idle": "2024-02-22T15:07:36.779691Z",
     "shell.execute_reply": "2024-02-22T15:07:36.778377Z"
    },
    "papermill": {
     "duration": 0.149758,
     "end_time": "2024-02-22T15:07:36.782361",
     "exception": false,
     "start_time": "2024-02-22T15:07:36.632603",
     "status": "completed"
    },
    "tags": []
   },
   "outputs": [
    {
     "name": "stdout",
     "output_type": "stream",
     "text": [
      "+---------------------+\n",
      "| Unique Applications |\n",
      "+---------------------+\n",
      "|      Bolt Food      |\n",
      "|        Glovo        |\n",
      "|       Grubhub       |\n",
      "|      Uber Eats      |\n",
      "|        Wolt         |\n",
      "+---------------------+\n"
     ]
    }
   ],
   "source": [
    "# Extract unique applications\n",
    "unique_apps = pd.unique(data['app'])\n",
    "\n",
    "# Convert unique_apps to a list of lists or a list of dictionaries\n",
    "table_data = [[app] for app in unique_apps]\n",
    "\n",
    "# Display the table using tabulate\n",
    "table = tabulate(table_data, headers=['Unique Applications'], tablefmt='pretty')\n",
    "\n",
    "print(table)"
   ]
  },
  {
   "cell_type": "markdown",
   "id": "3241eec4",
   "metadata": {
    "papermill": {
     "duration": 0.017512,
     "end_time": "2024-02-22T15:07:36.820454",
     "exception": false,
     "start_time": "2024-02-22T15:07:36.802942",
     "status": "completed"
    },
    "tags": []
   },
   "source": [
    "#### 🔎 Here, we created a beautiful small table with unique applications. This can help us see how many applications we have and what they are."
   ]
  },
  {
   "cell_type": "code",
   "execution_count": 13,
   "id": "e7c97bf9",
   "metadata": {
    "execution": {
     "iopub.execute_input": "2024-02-22T15:07:36.859427Z",
     "iopub.status.busy": "2024-02-22T15:07:36.859000Z",
     "iopub.status.idle": "2024-02-22T15:07:39.343962Z",
     "shell.execute_reply": "2024-02-22T15:07:39.342974Z"
    },
    "papermill": {
     "duration": 2.507155,
     "end_time": "2024-02-22T15:07:39.346753",
     "exception": false,
     "start_time": "2024-02-22T15:07:36.839598",
     "status": "completed"
    },
    "tags": []
   },
   "outputs": [
    {
     "data": {
      "text/html": [
       "        <script type=\"text/javascript\">\n",
       "        window.PlotlyConfig = {MathJaxConfig: 'local'};\n",
       "        if (window.MathJax && window.MathJax.Hub && window.MathJax.Hub.Config) {window.MathJax.Hub.Config({SVG: {font: \"STIX-Web\"}});}\n",
       "        if (typeof require !== 'undefined') {\n",
       "        require.undef(\"plotly\");\n",
       "        requirejs.config({\n",
       "            paths: {\n",
       "                'plotly': ['https://cdn.plot.ly/plotly-2.27.0.min']\n",
       "            }\n",
       "        });\n",
       "        require(['plotly'], function(Plotly) {\n",
       "            window._Plotly = Plotly;\n",
       "        });\n",
       "        }\n",
       "        </script>\n",
       "        "
      ]
     },
     "metadata": {},
     "output_type": "display_data"
    },
    {
     "data": {
      "text/html": [
       "<div>                            <div id=\"acf7674c-855e-434f-b76d-4282a789a759\" class=\"plotly-graph-div\" style=\"height:525px; width:100%;\"></div>            <script type=\"text/javascript\">                require([\"plotly\"], function(Plotly) {                    window.PLOTLYENV=window.PLOTLYENV || {};                                    if (document.getElementById(\"acf7674c-855e-434f-b76d-4282a789a759\")) {                    Plotly.newPlot(                        \"acf7674c-855e-434f-b76d-4282a789a759\",                        [{\"alignmentgroup\":\"True\",\"hovertemplate\":\"Application=%{x}\\u003cbr\\u003eAverage Score=%{y}\\u003cextra\\u003e\\u003c\\u002fextra\\u003e\",\"legendgroup\":\"Bolt Food\",\"marker\":{\"color\":\"#148C3C\",\"pattern\":{\"shape\":\"\"}},\"name\":\"Bolt Food\",\"offsetgroup\":\"Bolt Food\",\"orientation\":\"v\",\"showlegend\":true,\"textposition\":\"outside\",\"texttemplate\":\"%{y}\",\"x\":[\"Bolt Food\"],\"xaxis\":\"x\",\"y\":[2.0867903316469927],\"yaxis\":\"y\",\"type\":\"bar\",\"textfont\":{\"size\":14},\"textangle\":0},{\"alignmentgroup\":\"True\",\"hovertemplate\":\"Application=%{x}\\u003cbr\\u003eAverage Score=%{y}\\u003cextra\\u003e\\u003c\\u002fextra\\u003e\",\"legendgroup\":\"Glovo\",\"marker\":{\"color\":\"#30BFDD\",\"pattern\":{\"shape\":\"\"}},\"name\":\"Glovo\",\"offsetgroup\":\"Glovo\",\"orientation\":\"v\",\"showlegend\":true,\"textposition\":\"outside\",\"texttemplate\":\"%{y}\",\"x\":[\"Glovo\"],\"xaxis\":\"x\",\"y\":[3.2368189622681016],\"yaxis\":\"y\",\"type\":\"bar\",\"textfont\":{\"size\":14},\"textangle\":0},{\"alignmentgroup\":\"True\",\"hovertemplate\":\"Application=%{x}\\u003cbr\\u003eAverage Score=%{y}\\u003cextra\\u003e\\u003c\\u002fextra\\u003e\",\"legendgroup\":\"Grubhub\",\"marker\":{\"color\":\"#8690FF\",\"pattern\":{\"shape\":\"\"}},\"name\":\"Grubhub\",\"offsetgroup\":\"Grubhub\",\"orientation\":\"v\",\"showlegend\":true,\"textposition\":\"outside\",\"texttemplate\":\"%{y}\",\"x\":[\"Grubhub\"],\"xaxis\":\"x\",\"y\":[3.606766960302025],\"yaxis\":\"y\",\"type\":\"bar\",\"textfont\":{\"size\":14},\"textangle\":0},{\"alignmentgroup\":\"True\",\"hovertemplate\":\"Application=%{x}\\u003cbr\\u003eAverage Score=%{y}\\u003cextra\\u003e\\u003c\\u002fextra\\u003e\",\"legendgroup\":\"Uber Eats\",\"marker\":{\"color\":\"#AB7811\",\"pattern\":{\"shape\":\"\"}},\"name\":\"Uber Eats\",\"offsetgroup\":\"Uber Eats\",\"orientation\":\"v\",\"showlegend\":true,\"textposition\":\"outside\",\"texttemplate\":\"%{y}\",\"x\":[\"Uber Eats\"],\"xaxis\":\"x\",\"y\":[3.4356150601871196],\"yaxis\":\"y\",\"type\":\"bar\",\"textfont\":{\"size\":14},\"textangle\":0},{\"alignmentgroup\":\"True\",\"hovertemplate\":\"Application=%{x}\\u003cbr\\u003eAverage Score=%{y}\\u003cextra\\u003e\\u003c\\u002fextra\\u003e\",\"legendgroup\":\"Wolt\",\"marker\":{\"color\":\"#C358FC\",\"pattern\":{\"shape\":\"\"}},\"name\":\"Wolt\",\"offsetgroup\":\"Wolt\",\"orientation\":\"v\",\"showlegend\":true,\"textposition\":\"outside\",\"texttemplate\":\"%{y}\",\"x\":[\"Wolt\"],\"xaxis\":\"x\",\"y\":[3.9281070538519884],\"yaxis\":\"y\",\"type\":\"bar\",\"textfont\":{\"size\":14},\"textangle\":0}],                        {\"template\":{\"data\":{\"histogram2dcontour\":[{\"type\":\"histogram2dcontour\",\"colorbar\":{\"outlinewidth\":0,\"ticks\":\"\"},\"colorscale\":[[0.0,\"#0d0887\"],[0.1111111111111111,\"#46039f\"],[0.2222222222222222,\"#7201a8\"],[0.3333333333333333,\"#9c179e\"],[0.4444444444444444,\"#bd3786\"],[0.5555555555555556,\"#d8576b\"],[0.6666666666666666,\"#ed7953\"],[0.7777777777777778,\"#fb9f3a\"],[0.8888888888888888,\"#fdca26\"],[1.0,\"#f0f921\"]]}],\"choropleth\":[{\"type\":\"choropleth\",\"colorbar\":{\"outlinewidth\":0,\"ticks\":\"\"}}],\"histogram2d\":[{\"type\":\"histogram2d\",\"colorbar\":{\"outlinewidth\":0,\"ticks\":\"\"},\"colorscale\":[[0.0,\"#0d0887\"],[0.1111111111111111,\"#46039f\"],[0.2222222222222222,\"#7201a8\"],[0.3333333333333333,\"#9c179e\"],[0.4444444444444444,\"#bd3786\"],[0.5555555555555556,\"#d8576b\"],[0.6666666666666666,\"#ed7953\"],[0.7777777777777778,\"#fb9f3a\"],[0.8888888888888888,\"#fdca26\"],[1.0,\"#f0f921\"]]}],\"heatmap\":[{\"type\":\"heatmap\",\"colorbar\":{\"outlinewidth\":0,\"ticks\":\"\"},\"colorscale\":[[0.0,\"#0d0887\"],[0.1111111111111111,\"#46039f\"],[0.2222222222222222,\"#7201a8\"],[0.3333333333333333,\"#9c179e\"],[0.4444444444444444,\"#bd3786\"],[0.5555555555555556,\"#d8576b\"],[0.6666666666666666,\"#ed7953\"],[0.7777777777777778,\"#fb9f3a\"],[0.8888888888888888,\"#fdca26\"],[1.0,\"#f0f921\"]]}],\"heatmapgl\":[{\"type\":\"heatmapgl\",\"colorbar\":{\"outlinewidth\":0,\"ticks\":\"\"},\"colorscale\":[[0.0,\"#0d0887\"],[0.1111111111111111,\"#46039f\"],[0.2222222222222222,\"#7201a8\"],[0.3333333333333333,\"#9c179e\"],[0.4444444444444444,\"#bd3786\"],[0.5555555555555556,\"#d8576b\"],[0.6666666666666666,\"#ed7953\"],[0.7777777777777778,\"#fb9f3a\"],[0.8888888888888888,\"#fdca26\"],[1.0,\"#f0f921\"]]}],\"contourcarpet\":[{\"type\":\"contourcarpet\",\"colorbar\":{\"outlinewidth\":0,\"ticks\":\"\"}}],\"contour\":[{\"type\":\"contour\",\"colorbar\":{\"outlinewidth\":0,\"ticks\":\"\"},\"colorscale\":[[0.0,\"#0d0887\"],[0.1111111111111111,\"#46039f\"],[0.2222222222222222,\"#7201a8\"],[0.3333333333333333,\"#9c179e\"],[0.4444444444444444,\"#bd3786\"],[0.5555555555555556,\"#d8576b\"],[0.6666666666666666,\"#ed7953\"],[0.7777777777777778,\"#fb9f3a\"],[0.8888888888888888,\"#fdca26\"],[1.0,\"#f0f921\"]]}],\"surface\":[{\"type\":\"surface\",\"colorbar\":{\"outlinewidth\":0,\"ticks\":\"\"},\"colorscale\":[[0.0,\"#0d0887\"],[0.1111111111111111,\"#46039f\"],[0.2222222222222222,\"#7201a8\"],[0.3333333333333333,\"#9c179e\"],[0.4444444444444444,\"#bd3786\"],[0.5555555555555556,\"#d8576b\"],[0.6666666666666666,\"#ed7953\"],[0.7777777777777778,\"#fb9f3a\"],[0.8888888888888888,\"#fdca26\"],[1.0,\"#f0f921\"]]}],\"mesh3d\":[{\"type\":\"mesh3d\",\"colorbar\":{\"outlinewidth\":0,\"ticks\":\"\"}}],\"scatter\":[{\"fillpattern\":{\"fillmode\":\"overlay\",\"size\":10,\"solidity\":0.2},\"type\":\"scatter\"}],\"parcoords\":[{\"type\":\"parcoords\",\"line\":{\"colorbar\":{\"outlinewidth\":0,\"ticks\":\"\"}}}],\"scatterpolargl\":[{\"type\":\"scatterpolargl\",\"marker\":{\"colorbar\":{\"outlinewidth\":0,\"ticks\":\"\"}}}],\"bar\":[{\"error_x\":{\"color\":\"#2a3f5f\"},\"error_y\":{\"color\":\"#2a3f5f\"},\"marker\":{\"line\":{\"color\":\"#E5ECF6\",\"width\":0.5},\"pattern\":{\"fillmode\":\"overlay\",\"size\":10,\"solidity\":0.2}},\"type\":\"bar\"}],\"scattergeo\":[{\"type\":\"scattergeo\",\"marker\":{\"colorbar\":{\"outlinewidth\":0,\"ticks\":\"\"}}}],\"scatterpolar\":[{\"type\":\"scatterpolar\",\"marker\":{\"colorbar\":{\"outlinewidth\":0,\"ticks\":\"\"}}}],\"histogram\":[{\"marker\":{\"pattern\":{\"fillmode\":\"overlay\",\"size\":10,\"solidity\":0.2}},\"type\":\"histogram\"}],\"scattergl\":[{\"type\":\"scattergl\",\"marker\":{\"colorbar\":{\"outlinewidth\":0,\"ticks\":\"\"}}}],\"scatter3d\":[{\"type\":\"scatter3d\",\"line\":{\"colorbar\":{\"outlinewidth\":0,\"ticks\":\"\"}},\"marker\":{\"colorbar\":{\"outlinewidth\":0,\"ticks\":\"\"}}}],\"scattermapbox\":[{\"type\":\"scattermapbox\",\"marker\":{\"colorbar\":{\"outlinewidth\":0,\"ticks\":\"\"}}}],\"scatterternary\":[{\"type\":\"scatterternary\",\"marker\":{\"colorbar\":{\"outlinewidth\":0,\"ticks\":\"\"}}}],\"scattercarpet\":[{\"type\":\"scattercarpet\",\"marker\":{\"colorbar\":{\"outlinewidth\":0,\"ticks\":\"\"}}}],\"carpet\":[{\"aaxis\":{\"endlinecolor\":\"#2a3f5f\",\"gridcolor\":\"white\",\"linecolor\":\"white\",\"minorgridcolor\":\"white\",\"startlinecolor\":\"#2a3f5f\"},\"baxis\":{\"endlinecolor\":\"#2a3f5f\",\"gridcolor\":\"white\",\"linecolor\":\"white\",\"minorgridcolor\":\"white\",\"startlinecolor\":\"#2a3f5f\"},\"type\":\"carpet\"}],\"table\":[{\"cells\":{\"fill\":{\"color\":\"#EBF0F8\"},\"line\":{\"color\":\"white\"}},\"header\":{\"fill\":{\"color\":\"#C8D4E3\"},\"line\":{\"color\":\"white\"}},\"type\":\"table\"}],\"barpolar\":[{\"marker\":{\"line\":{\"color\":\"#E5ECF6\",\"width\":0.5},\"pattern\":{\"fillmode\":\"overlay\",\"size\":10,\"solidity\":0.2}},\"type\":\"barpolar\"}],\"pie\":[{\"automargin\":true,\"type\":\"pie\"}]},\"layout\":{\"autotypenumbers\":\"strict\",\"colorway\":[\"#636efa\",\"#EF553B\",\"#00cc96\",\"#ab63fa\",\"#FFA15A\",\"#19d3f3\",\"#FF6692\",\"#B6E880\",\"#FF97FF\",\"#FECB52\"],\"font\":{\"color\":\"#2a3f5f\"},\"hovermode\":\"closest\",\"hoverlabel\":{\"align\":\"left\"},\"paper_bgcolor\":\"white\",\"plot_bgcolor\":\"#E5ECF6\",\"polar\":{\"bgcolor\":\"#E5ECF6\",\"angularaxis\":{\"gridcolor\":\"white\",\"linecolor\":\"white\",\"ticks\":\"\"},\"radialaxis\":{\"gridcolor\":\"white\",\"linecolor\":\"white\",\"ticks\":\"\"}},\"ternary\":{\"bgcolor\":\"#E5ECF6\",\"aaxis\":{\"gridcolor\":\"white\",\"linecolor\":\"white\",\"ticks\":\"\"},\"baxis\":{\"gridcolor\":\"white\",\"linecolor\":\"white\",\"ticks\":\"\"},\"caxis\":{\"gridcolor\":\"white\",\"linecolor\":\"white\",\"ticks\":\"\"}},\"coloraxis\":{\"colorbar\":{\"outlinewidth\":0,\"ticks\":\"\"}},\"colorscale\":{\"sequential\":[[0.0,\"#0d0887\"],[0.1111111111111111,\"#46039f\"],[0.2222222222222222,\"#7201a8\"],[0.3333333333333333,\"#9c179e\"],[0.4444444444444444,\"#bd3786\"],[0.5555555555555556,\"#d8576b\"],[0.6666666666666666,\"#ed7953\"],[0.7777777777777778,\"#fb9f3a\"],[0.8888888888888888,\"#fdca26\"],[1.0,\"#f0f921\"]],\"sequentialminus\":[[0.0,\"#0d0887\"],[0.1111111111111111,\"#46039f\"],[0.2222222222222222,\"#7201a8\"],[0.3333333333333333,\"#9c179e\"],[0.4444444444444444,\"#bd3786\"],[0.5555555555555556,\"#d8576b\"],[0.6666666666666666,\"#ed7953\"],[0.7777777777777778,\"#fb9f3a\"],[0.8888888888888888,\"#fdca26\"],[1.0,\"#f0f921\"]],\"diverging\":[[0,\"#8e0152\"],[0.1,\"#c51b7d\"],[0.2,\"#de77ae\"],[0.3,\"#f1b6da\"],[0.4,\"#fde0ef\"],[0.5,\"#f7f7f7\"],[0.6,\"#e6f5d0\"],[0.7,\"#b8e186\"],[0.8,\"#7fbc41\"],[0.9,\"#4d9221\"],[1,\"#276419\"]]},\"xaxis\":{\"gridcolor\":\"white\",\"linecolor\":\"white\",\"ticks\":\"\",\"title\":{\"standoff\":15},\"zerolinecolor\":\"white\",\"automargin\":true,\"zerolinewidth\":2},\"yaxis\":{\"gridcolor\":\"white\",\"linecolor\":\"white\",\"ticks\":\"\",\"title\":{\"standoff\":15},\"zerolinecolor\":\"white\",\"automargin\":true,\"zerolinewidth\":2},\"scene\":{\"xaxis\":{\"backgroundcolor\":\"#E5ECF6\",\"gridcolor\":\"white\",\"linecolor\":\"white\",\"showbackground\":true,\"ticks\":\"\",\"zerolinecolor\":\"white\",\"gridwidth\":2},\"yaxis\":{\"backgroundcolor\":\"#E5ECF6\",\"gridcolor\":\"white\",\"linecolor\":\"white\",\"showbackground\":true,\"ticks\":\"\",\"zerolinecolor\":\"white\",\"gridwidth\":2},\"zaxis\":{\"backgroundcolor\":\"#E5ECF6\",\"gridcolor\":\"white\",\"linecolor\":\"white\",\"showbackground\":true,\"ticks\":\"\",\"zerolinecolor\":\"white\",\"gridwidth\":2}},\"shapedefaults\":{\"line\":{\"color\":\"#2a3f5f\"}},\"annotationdefaults\":{\"arrowcolor\":\"#2a3f5f\",\"arrowhead\":0,\"arrowwidth\":1},\"geo\":{\"bgcolor\":\"white\",\"landcolor\":\"#E5ECF6\",\"subunitcolor\":\"white\",\"showland\":true,\"showlakes\":true,\"lakecolor\":\"white\"},\"title\":{\"x\":0.05},\"mapbox\":{\"style\":\"light\"}}},\"xaxis\":{\"anchor\":\"y\",\"domain\":[0.0,1.0],\"title\":{\"text\":\"Application\"},\"categoryorder\":\"total ascending\",\"categoryarray\":[\"Bolt Food\",\"Glovo\",\"Grubhub\",\"Uber Eats\",\"Wolt\"]},\"yaxis\":{\"anchor\":\"x\",\"domain\":[0.0,1.0],\"title\":{\"text\":\"Average Score\"},\"range\":[0,4.5]},\"legend\":{\"title\":{\"text\":\"Application\"},\"tracegroupgap\":0},\"title\":{\"text\":\"Average Score Review by Application\"},\"barmode\":\"relative\",\"plot_bgcolor\":\"white\"},                        {\"responsive\": true}                    ).then(function(){\n",
       "                            \n",
       "var gd = document.getElementById('acf7674c-855e-434f-b76d-4282a789a759');\n",
       "var x = new MutationObserver(function (mutations, observer) {{\n",
       "        var display = window.getComputedStyle(gd).display;\n",
       "        if (!display || display === 'none') {{\n",
       "            console.log([gd, 'removed!']);\n",
       "            Plotly.purge(gd);\n",
       "            observer.disconnect();\n",
       "        }}\n",
       "}});\n",
       "\n",
       "// Listen for the removal of the full notebook cells\n",
       "var notebookContainer = gd.closest('#notebook-container');\n",
       "if (notebookContainer) {{\n",
       "    x.observe(notebookContainer, {childList: true});\n",
       "}}\n",
       "\n",
       "// Listen for the clearing of the current output cell\n",
       "var outputEl = gd.closest('.output');\n",
       "if (outputEl) {{\n",
       "    x.observe(outputEl, {childList: true});\n",
       "}}\n",
       "\n",
       "                        })                };                });            </script>        </div>"
      ]
     },
     "metadata": {},
     "output_type": "display_data"
    }
   ],
   "source": [
    "# Group by application and calculate mean review score - stars\n",
    "grouped_df = data.groupby('app')['score'].mean().reset_index()\n",
    "\n",
    "# Create bar chart\n",
    "fig = px.bar(grouped_df, x='app', y='score', color = 'app',\n",
    "             color_discrete_map = {'Bolt Food': '#148C3C', 'Glovo': '#30BFDD', 'Grubhub': '#8690FF', 'Uber Eats': '#AB7811', 'Wolt': '#C358FC'},\n",
    "             labels={'score': 'Average Score', 'app': 'Application'}, \n",
    "             title='Average Score Review by Application',\n",
    "             text_auto = True)\n",
    "\n",
    "fig.update_layout(xaxis = {\"categoryorder\":\"total ascending\"})\n",
    "fig.update_traces(textfont_size = 14, textangle = 0, textposition = \"outside\")\n",
    "fig.update_layout(yaxis_range=[0,4.5])\n",
    "fig.update_layout(plot_bgcolor='white')\n",
    "\n",
    "fig.show()"
   ]
  },
  {
   "cell_type": "markdown",
   "id": "1662f572",
   "metadata": {
    "papermill": {
     "duration": 0.018896,
     "end_time": "2024-02-22T15:07:39.385388",
     "exception": false,
     "start_time": "2024-02-22T15:07:39.366492",
     "status": "completed"
    },
    "tags": []
   },
   "source": [
    "#### 🔎 We created this bar chart to get an idea of which application has the highest score. So, we can observe that the Wolt application has the highest score, with a mean score of approximately 3.9 stars, while Bolt Food has the lowest score, with approximately 2 stars."
   ]
  },
  {
   "cell_type": "markdown",
   "id": "5216aafc",
   "metadata": {
    "papermill": {
     "duration": 0.017721,
     "end_time": "2024-02-22T15:07:39.423606",
     "exception": false,
     "start_time": "2024-02-22T15:07:39.405885",
     "status": "completed"
    },
    "tags": []
   },
   "source": [
    "# Text Preprocessing 📰 <a class=\"anchor\" id=\"chapter3\"></a>"
   ]
  },
  {
   "cell_type": "code",
   "execution_count": 14,
   "id": "6b06cb0e",
   "metadata": {
    "execution": {
     "iopub.execute_input": "2024-02-22T15:07:39.538981Z",
     "iopub.status.busy": "2024-02-22T15:07:39.538576Z",
     "iopub.status.idle": "2024-02-22T15:07:39.621509Z",
     "shell.execute_reply": "2024-02-22T15:07:39.619892Z"
    },
    "papermill": {
     "duration": 0.10699,
     "end_time": "2024-02-22T15:07:39.624833",
     "exception": false,
     "start_time": "2024-02-22T15:07:39.517843",
     "status": "completed"
    },
    "tags": []
   },
   "outputs": [],
   "source": [
    "data[\"content\"] = data[\"content\"].astype(str)"
   ]
  },
  {
   "cell_type": "markdown",
   "id": "4f991d70",
   "metadata": {
    "papermill": {
     "duration": 0.019062,
     "end_time": "2024-02-22T15:07:39.661892",
     "exception": false,
     "start_time": "2024-02-22T15:07:39.642830",
     "status": "completed"
    },
    "tags": []
   },
   "source": [
    "## Lowercase <a class=\"anchor\" id=\"section_3_1\"></a>"
   ]
  },
  {
   "cell_type": "code",
   "execution_count": 15,
   "id": "883f532b",
   "metadata": {
    "execution": {
     "iopub.execute_input": "2024-02-22T15:07:39.702155Z",
     "iopub.status.busy": "2024-02-22T15:07:39.701745Z",
     "iopub.status.idle": "2024-02-22T15:07:40.763104Z",
     "shell.execute_reply": "2024-02-22T15:07:40.761085Z"
    },
    "papermill": {
     "duration": 1.085474,
     "end_time": "2024-02-22T15:07:40.766483",
     "exception": false,
     "start_time": "2024-02-22T15:07:39.681009",
     "status": "completed"
    },
    "tags": []
   },
   "outputs": [
    {
     "data": {
      "text/html": [
       "<div>\n",
       "<style scoped>\n",
       "    .dataframe tbody tr th:only-of-type {\n",
       "        vertical-align: middle;\n",
       "    }\n",
       "\n",
       "    .dataframe tbody tr th {\n",
       "        vertical-align: top;\n",
       "    }\n",
       "\n",
       "    .dataframe thead th {\n",
       "        text-align: right;\n",
       "    }\n",
       "</style>\n",
       "<table border=\"1\" class=\"dataframe\">\n",
       "  <thead>\n",
       "    <tr style=\"text-align: right;\">\n",
       "      <th></th>\n",
       "      <th>date</th>\n",
       "      <th>content</th>\n",
       "      <th>score</th>\n",
       "      <th>userName</th>\n",
       "      <th>app</th>\n",
       "      <th>platform</th>\n",
       "      <th>appVersion</th>\n",
       "    </tr>\n",
       "  </thead>\n",
       "  <tbody>\n",
       "    <tr>\n",
       "      <th>0</th>\n",
       "      <td>2022-10-20 17:08:18</td>\n",
       "      <td>being single and traveling a lot for work, all...</td>\n",
       "      <td>5</td>\n",
       "      <td>TBeck-NARC</td>\n",
       "      <td>Bolt Food</td>\n",
       "      <td>App Store</td>\n",
       "      <td>Do not know</td>\n",
       "    </tr>\n",
       "    <tr>\n",
       "      <th>1</th>\n",
       "      <td>2022-08-19 15:56:51</td>\n",
       "      <td>app is well-designed and nice to use. only com...</td>\n",
       "      <td>4</td>\n",
       "      <td>henhouse</td>\n",
       "      <td>Bolt Food</td>\n",
       "      <td>App Store</td>\n",
       "      <td>Do not know</td>\n",
       "    </tr>\n",
       "    <tr>\n",
       "      <th>2</th>\n",
       "      <td>2023-07-26 09:03:32</td>\n",
       "      <td>i’ve had this payment issue for over a month n...</td>\n",
       "      <td>1</td>\n",
       "      <td>hsghdoenvskrbbd</td>\n",
       "      <td>Bolt Food</td>\n",
       "      <td>App Store</td>\n",
       "      <td>Do not know</td>\n",
       "    </tr>\n",
       "    <tr>\n",
       "      <th>3</th>\n",
       "      <td>2022-11-22 10:00:43</td>\n",
       "      <td>live activities would be nice instead of getti...</td>\n",
       "      <td>4</td>\n",
       "      <td>Sussy31</td>\n",
       "      <td>Bolt Food</td>\n",
       "      <td>App Store</td>\n",
       "      <td>Do not know</td>\n",
       "    </tr>\n",
       "    <tr>\n",
       "      <th>4</th>\n",
       "      <td>2023-06-14 09:04:39</td>\n",
       "      <td>after waiting for over an hour for our food an...</td>\n",
       "      <td>1</td>\n",
       "      <td>schalas1985</td>\n",
       "      <td>Bolt Food</td>\n",
       "      <td>App Store</td>\n",
       "      <td>Do not know</td>\n",
       "    </tr>\n",
       "  </tbody>\n",
       "</table>\n",
       "</div>"
      ],
      "text/plain": [
       "                  date                                            content  \\\n",
       "0  2022-10-20 17:08:18  being single and traveling a lot for work, all...   \n",
       "1  2022-08-19 15:56:51  app is well-designed and nice to use. only com...   \n",
       "2  2023-07-26 09:03:32  i’ve had this payment issue for over a month n...   \n",
       "3  2022-11-22 10:00:43  live activities would be nice instead of getti...   \n",
       "4  2023-06-14 09:04:39  after waiting for over an hour for our food an...   \n",
       "\n",
       "   score         userName        app   platform   appVersion  \n",
       "0      5       TBeck-NARC  Bolt Food  App Store  Do not know  \n",
       "1      4         henhouse  Bolt Food  App Store  Do not know  \n",
       "2      1  hsghdoenvskrbbd  Bolt Food  App Store  Do not know  \n",
       "3      4          Sussy31  Bolt Food  App Store  Do not know  \n",
       "4      1      schalas1985  Bolt Food  App Store  Do not know  "
      ]
     },
     "execution_count": 15,
     "metadata": {},
     "output_type": "execute_result"
    }
   ],
   "source": [
    "data[\"content\"] = data[\"content\"].str.lower()\n",
    "data.head()"
   ]
  },
  {
   "cell_type": "markdown",
   "id": "e858436c",
   "metadata": {
    "papermill": {
     "duration": 0.022855,
     "end_time": "2024-02-22T15:07:40.811971",
     "exception": false,
     "start_time": "2024-02-22T15:07:40.789116",
     "status": "completed"
    },
    "tags": []
   },
   "source": [
    "## Conver numbers into text <a class=\"anchor\" id=\"section_3_2\"></a>"
   ]
  },
  {
   "cell_type": "code",
   "execution_count": 16,
   "id": "242004e5",
   "metadata": {
    "execution": {
     "iopub.execute_input": "2024-02-22T15:07:40.857719Z",
     "iopub.status.busy": "2024-02-22T15:07:40.857196Z",
     "iopub.status.idle": "2024-02-22T15:07:56.551899Z",
     "shell.execute_reply": "2024-02-22T15:07:56.550458Z"
    },
    "papermill": {
     "duration": 15.721632,
     "end_time": "2024-02-22T15:07:56.554898",
     "exception": false,
     "start_time": "2024-02-22T15:07:40.833266",
     "status": "completed"
    },
    "tags": []
   },
   "outputs": [
    {
     "data": {
      "text/html": [
       "<div>\n",
       "<style scoped>\n",
       "    .dataframe tbody tr th:only-of-type {\n",
       "        vertical-align: middle;\n",
       "    }\n",
       "\n",
       "    .dataframe tbody tr th {\n",
       "        vertical-align: top;\n",
       "    }\n",
       "\n",
       "    .dataframe thead th {\n",
       "        text-align: right;\n",
       "    }\n",
       "</style>\n",
       "<table border=\"1\" class=\"dataframe\">\n",
       "  <thead>\n",
       "    <tr style=\"text-align: right;\">\n",
       "      <th></th>\n",
       "      <th>date</th>\n",
       "      <th>content</th>\n",
       "      <th>score</th>\n",
       "      <th>userName</th>\n",
       "      <th>app</th>\n",
       "      <th>platform</th>\n",
       "      <th>appVersion</th>\n",
       "    </tr>\n",
       "  </thead>\n",
       "  <tbody>\n",
       "    <tr>\n",
       "      <th>0</th>\n",
       "      <td>2022-10-20 17:08:18</td>\n",
       "      <td>being single and traveling a lot for work, all...</td>\n",
       "      <td>5</td>\n",
       "      <td>TBeck-NARC</td>\n",
       "      <td>Bolt Food</td>\n",
       "      <td>App Store</td>\n",
       "      <td>Do not know</td>\n",
       "    </tr>\n",
       "    <tr>\n",
       "      <th>1</th>\n",
       "      <td>2022-08-19 15:56:51</td>\n",
       "      <td>app is well-designed and nice to use. only com...</td>\n",
       "      <td>4</td>\n",
       "      <td>henhouse</td>\n",
       "      <td>Bolt Food</td>\n",
       "      <td>App Store</td>\n",
       "      <td>Do not know</td>\n",
       "    </tr>\n",
       "    <tr>\n",
       "      <th>2</th>\n",
       "      <td>2023-07-26 09:03:32</td>\n",
       "      <td>i’ve had this payment issue for over a month n...</td>\n",
       "      <td>1</td>\n",
       "      <td>hsghdoenvskrbbd</td>\n",
       "      <td>Bolt Food</td>\n",
       "      <td>App Store</td>\n",
       "      <td>Do not know</td>\n",
       "    </tr>\n",
       "    <tr>\n",
       "      <th>3</th>\n",
       "      <td>2022-11-22 10:00:43</td>\n",
       "      <td>live activities would be nice instead of getti...</td>\n",
       "      <td>4</td>\n",
       "      <td>Sussy31</td>\n",
       "      <td>Bolt Food</td>\n",
       "      <td>App Store</td>\n",
       "      <td>Do not know</td>\n",
       "    </tr>\n",
       "    <tr>\n",
       "      <th>4</th>\n",
       "      <td>2023-06-14 09:04:39</td>\n",
       "      <td>after waiting for over an hour for our food an...</td>\n",
       "      <td>1</td>\n",
       "      <td>schalas1985</td>\n",
       "      <td>Bolt Food</td>\n",
       "      <td>App Store</td>\n",
       "      <td>Do not know</td>\n",
       "    </tr>\n",
       "  </tbody>\n",
       "</table>\n",
       "</div>"
      ],
      "text/plain": [
       "                  date                                            content  \\\n",
       "0  2022-10-20 17:08:18  being single and traveling a lot for work, all...   \n",
       "1  2022-08-19 15:56:51  app is well-designed and nice to use. only com...   \n",
       "2  2023-07-26 09:03:32  i’ve had this payment issue for over a month n...   \n",
       "3  2022-11-22 10:00:43  live activities would be nice instead of getti...   \n",
       "4  2023-06-14 09:04:39  after waiting for over an hour for our food an...   \n",
       "\n",
       "   score         userName        app   platform   appVersion  \n",
       "0      5       TBeck-NARC  Bolt Food  App Store  Do not know  \n",
       "1      4         henhouse  Bolt Food  App Store  Do not know  \n",
       "2      1  hsghdoenvskrbbd  Bolt Food  App Store  Do not know  \n",
       "3      4          Sussy31  Bolt Food  App Store  Do not know  \n",
       "4      1      schalas1985  Bolt Food  App Store  Do not know  "
      ]
     },
     "execution_count": 16,
     "metadata": {},
     "output_type": "execute_result"
    }
   ],
   "source": [
    "# Convert numbers into text\n",
    "q = inflect.engine() \n",
    "  \n",
    "def convert_num(text): \n",
    "    # split strings into list of texts \n",
    "    temp_string = text.split() \n",
    "    # initialise empty list \n",
    "    new_str = [] \n",
    "  \n",
    "    for word in temp_string: \n",
    "        # if text is a digit, convert the digit \n",
    "        # to numbers and append into the new_str list \n",
    "        if word.isdigit(): \n",
    "            temp = q.number_to_words(word) \n",
    "            new_str.append(temp) \n",
    "  \n",
    "        # append the texts as it is \n",
    "        else: \n",
    "            new_str.append(word) \n",
    "  \n",
    "    # join the texts of new_str to form a string \n",
    "    temp_str = ' '.join(new_str) \n",
    "    return temp_str \n",
    "\n",
    "data['content'] = data['content'].apply(convert_num)\n",
    "\n",
    "data.head()"
   ]
  },
  {
   "cell_type": "markdown",
   "id": "01547536",
   "metadata": {
    "papermill": {
     "duration": 0.018456,
     "end_time": "2024-02-22T15:07:56.594430",
     "exception": false,
     "start_time": "2024-02-22T15:07:56.575974",
     "status": "completed"
    },
    "tags": []
   },
   "source": [
    "## Remove punctuation <a class=\"anchor\" id=\"section_3_3\"></a>"
   ]
  },
  {
   "cell_type": "code",
   "execution_count": 17,
   "id": "914db6a2",
   "metadata": {
    "execution": {
     "iopub.execute_input": "2024-02-22T15:07:56.635083Z",
     "iopub.status.busy": "2024-02-22T15:07:56.634661Z",
     "iopub.status.idle": "2024-02-22T15:07:56.675712Z",
     "shell.execute_reply": "2024-02-22T15:07:56.674198Z"
    },
    "papermill": {
     "duration": 0.065288,
     "end_time": "2024-02-22T15:07:56.678760",
     "exception": false,
     "start_time": "2024-02-22T15:07:56.613472",
     "status": "completed"
    },
    "tags": []
   },
   "outputs": [
    {
     "data": {
      "text/html": [
       "<div>\n",
       "<style scoped>\n",
       "    .dataframe tbody tr th:only-of-type {\n",
       "        vertical-align: middle;\n",
       "    }\n",
       "\n",
       "    .dataframe tbody tr th {\n",
       "        vertical-align: top;\n",
       "    }\n",
       "\n",
       "    .dataframe thead th {\n",
       "        text-align: right;\n",
       "    }\n",
       "</style>\n",
       "<table border=\"1\" class=\"dataframe\">\n",
       "  <thead>\n",
       "    <tr style=\"text-align: right;\">\n",
       "      <th></th>\n",
       "      <th>date</th>\n",
       "      <th>content</th>\n",
       "      <th>score</th>\n",
       "      <th>userName</th>\n",
       "      <th>app</th>\n",
       "      <th>platform</th>\n",
       "      <th>appVersion</th>\n",
       "    </tr>\n",
       "  </thead>\n",
       "  <tbody>\n",
       "    <tr>\n",
       "      <th>0</th>\n",
       "      <td>2022-10-20 17:08:18</td>\n",
       "      <td>being single and traveling a lot for work, all...</td>\n",
       "      <td>5</td>\n",
       "      <td>TBeck-NARC</td>\n",
       "      <td>Bolt Food</td>\n",
       "      <td>App Store</td>\n",
       "      <td>Do not know</td>\n",
       "    </tr>\n",
       "    <tr>\n",
       "      <th>1</th>\n",
       "      <td>2022-08-19 15:56:51</td>\n",
       "      <td>app is well-designed and nice to use. only com...</td>\n",
       "      <td>4</td>\n",
       "      <td>henhouse</td>\n",
       "      <td>Bolt Food</td>\n",
       "      <td>App Store</td>\n",
       "      <td>Do not know</td>\n",
       "    </tr>\n",
       "    <tr>\n",
       "      <th>2</th>\n",
       "      <td>2023-07-26 09:03:32</td>\n",
       "      <td>i’ve had this payment issue for over a month n...</td>\n",
       "      <td>1</td>\n",
       "      <td>hsghdoenvskrbbd</td>\n",
       "      <td>Bolt Food</td>\n",
       "      <td>App Store</td>\n",
       "      <td>Do not know</td>\n",
       "    </tr>\n",
       "    <tr>\n",
       "      <th>3</th>\n",
       "      <td>2022-11-22 10:00:43</td>\n",
       "      <td>live activities would be nice instead of getti...</td>\n",
       "      <td>4</td>\n",
       "      <td>Sussy31</td>\n",
       "      <td>Bolt Food</td>\n",
       "      <td>App Store</td>\n",
       "      <td>Do not know</td>\n",
       "    </tr>\n",
       "    <tr>\n",
       "      <th>4</th>\n",
       "      <td>2023-06-14 09:04:39</td>\n",
       "      <td>after waiting for over an hour for our food an...</td>\n",
       "      <td>1</td>\n",
       "      <td>schalas1985</td>\n",
       "      <td>Bolt Food</td>\n",
       "      <td>App Store</td>\n",
       "      <td>Do not know</td>\n",
       "    </tr>\n",
       "  </tbody>\n",
       "</table>\n",
       "</div>"
      ],
      "text/plain": [
       "                  date                                            content  \\\n",
       "0  2022-10-20 17:08:18  being single and traveling a lot for work, all...   \n",
       "1  2022-08-19 15:56:51  app is well-designed and nice to use. only com...   \n",
       "2  2023-07-26 09:03:32  i’ve had this payment issue for over a month n...   \n",
       "3  2022-11-22 10:00:43  live activities would be nice instead of getti...   \n",
       "4  2023-06-14 09:04:39  after waiting for over an hour for our food an...   \n",
       "\n",
       "   score         userName        app   platform   appVersion  \n",
       "0      5       TBeck-NARC  Bolt Food  App Store  Do not know  \n",
       "1      4         henhouse  Bolt Food  App Store  Do not know  \n",
       "2      1  hsghdoenvskrbbd  Bolt Food  App Store  Do not know  \n",
       "3      4          Sussy31  Bolt Food  App Store  Do not know  \n",
       "4      1      schalas1985  Bolt Food  App Store  Do not know  "
      ]
     },
     "execution_count": 17,
     "metadata": {},
     "output_type": "execute_result"
    }
   ],
   "source": [
    "# Remove punctuation\n",
    "def remove_punctuation(text):\n",
    "    translator = str.maketrans('', '', string.punctuation)\n",
    "    if isinstance(text, str):  # Check if text is a string\n",
    "        return text.translate(translator)\n",
    "    elif isinstance(text, list):  # If it's a list of strings, apply to each element\n",
    "        return [t.translate(translator) for t in text]\n",
    "    else:\n",
    "        return text\n",
    "\n",
    "data['content'] = remove_punctuation(data['content'])\n",
    "\n",
    "data.head()"
   ]
  },
  {
   "cell_type": "markdown",
   "id": "14a8504a",
   "metadata": {
    "papermill": {
     "duration": 0.019881,
     "end_time": "2024-02-22T15:07:56.717654",
     "exception": false,
     "start_time": "2024-02-22T15:07:56.697773",
     "status": "completed"
    },
    "tags": []
   },
   "source": [
    "#### 🔎 Removing punctuation in natural language processing (NLP) refers to the process of eliminating punctuation marks such as periods, commas, question marks, exclamation points, etc., from text data."
   ]
  },
  {
   "cell_type": "markdown",
   "id": "3b5bb033",
   "metadata": {
    "papermill": {
     "duration": 0.019656,
     "end_time": "2024-02-22T15:07:56.756701",
     "exception": false,
     "start_time": "2024-02-22T15:07:56.737045",
     "status": "completed"
    },
    "tags": []
   },
   "source": [
    "## Remove stopwords <a class=\"anchor\" id=\"section_3_4\"></a>"
   ]
  },
  {
   "cell_type": "code",
   "execution_count": 18,
   "id": "0a01dad8",
   "metadata": {
    "execution": {
     "iopub.execute_input": "2024-02-22T15:07:56.798225Z",
     "iopub.status.busy": "2024-02-22T15:07:56.797800Z",
     "iopub.status.idle": "2024-02-22T15:08:04.557913Z",
     "shell.execute_reply": "2024-02-22T15:08:04.556586Z"
    },
    "papermill": {
     "duration": 7.784412,
     "end_time": "2024-02-22T15:08:04.560607",
     "exception": false,
     "start_time": "2024-02-22T15:07:56.776195",
     "status": "completed"
    },
    "tags": []
   },
   "outputs": [
    {
     "data": {
      "text/html": [
       "<div>\n",
       "<style scoped>\n",
       "    .dataframe tbody tr th:only-of-type {\n",
       "        vertical-align: middle;\n",
       "    }\n",
       "\n",
       "    .dataframe tbody tr th {\n",
       "        vertical-align: top;\n",
       "    }\n",
       "\n",
       "    .dataframe thead th {\n",
       "        text-align: right;\n",
       "    }\n",
       "</style>\n",
       "<table border=\"1\" class=\"dataframe\">\n",
       "  <thead>\n",
       "    <tr style=\"text-align: right;\">\n",
       "      <th></th>\n",
       "      <th>date</th>\n",
       "      <th>content</th>\n",
       "      <th>score</th>\n",
       "      <th>userName</th>\n",
       "      <th>app</th>\n",
       "      <th>platform</th>\n",
       "      <th>appVersion</th>\n",
       "    </tr>\n",
       "  </thead>\n",
       "  <tbody>\n",
       "    <tr>\n",
       "      <th>0</th>\n",
       "      <td>2022-10-20 17:08:18</td>\n",
       "      <td>single traveling lot work, around world - used...</td>\n",
       "      <td>5</td>\n",
       "      <td>TBeck-NARC</td>\n",
       "      <td>Bolt Food</td>\n",
       "      <td>App Store</td>\n",
       "      <td>Do not know</td>\n",
       "    </tr>\n",
       "    <tr>\n",
       "      <th>1</th>\n",
       "      <td>2022-08-19 15:56:51</td>\n",
       "      <td>app well-designed nice use. complaint lack app...</td>\n",
       "      <td>4</td>\n",
       "      <td>henhouse</td>\n",
       "      <td>Bolt Food</td>\n",
       "      <td>App Store</td>\n",
       "      <td>Do not know</td>\n",
       "    </tr>\n",
       "    <tr>\n",
       "      <th>2</th>\n",
       "      <td>2023-07-26 09:03:32</td>\n",
       "      <td>i’ve payment issue month now, sure \"fraud\" rig...</td>\n",
       "      <td>1</td>\n",
       "      <td>hsghdoenvskrbbd</td>\n",
       "      <td>Bolt Food</td>\n",
       "      <td>App Store</td>\n",
       "      <td>Do not know</td>\n",
       "    </tr>\n",
       "    <tr>\n",
       "      <th>3</th>\n",
       "      <td>2022-11-22 10:00:43</td>\n",
       "      <td>live activities would nice instead getting con...</td>\n",
       "      <td>4</td>\n",
       "      <td>Sussy31</td>\n",
       "      <td>Bolt Food</td>\n",
       "      <td>App Store</td>\n",
       "      <td>Do not know</td>\n",
       "    </tr>\n",
       "    <tr>\n",
       "      <th>4</th>\n",
       "      <td>2023-06-14 09:04:39</td>\n",
       "      <td>waiting hour food reached restaurant learnt fo...</td>\n",
       "      <td>1</td>\n",
       "      <td>schalas1985</td>\n",
       "      <td>Bolt Food</td>\n",
       "      <td>App Store</td>\n",
       "      <td>Do not know</td>\n",
       "    </tr>\n",
       "  </tbody>\n",
       "</table>\n",
       "</div>"
      ],
      "text/plain": [
       "                  date                                            content  \\\n",
       "0  2022-10-20 17:08:18  single traveling lot work, around world - used...   \n",
       "1  2022-08-19 15:56:51  app well-designed nice use. complaint lack app...   \n",
       "2  2023-07-26 09:03:32  i’ve payment issue month now, sure \"fraud\" rig...   \n",
       "3  2022-11-22 10:00:43  live activities would nice instead getting con...   \n",
       "4  2023-06-14 09:04:39  waiting hour food reached restaurant learnt fo...   \n",
       "\n",
       "   score         userName        app   platform   appVersion  \n",
       "0      5       TBeck-NARC  Bolt Food  App Store  Do not know  \n",
       "1      4         henhouse  Bolt Food  App Store  Do not know  \n",
       "2      1  hsghdoenvskrbbd  Bolt Food  App Store  Do not know  \n",
       "3      4          Sussy31  Bolt Food  App Store  Do not know  \n",
       "4      1      schalas1985  Bolt Food  App Store  Do not know  "
      ]
     },
     "execution_count": 18,
     "metadata": {},
     "output_type": "execute_result"
    }
   ],
   "source": [
    "# Remove stopwords function\n",
    "STOPWORDS = set(stopwords.words('english'))\n",
    "def remove_stopwords(text):\n",
    "    \"\"\"custom function to remove the stopwords\"\"\"\n",
    "    return \" \".join([word for word in str(text).split() if word not in STOPWORDS])\n",
    "\n",
    "data[\"content\"] = data[\"content\"].apply(lambda text: remove_stopwords(text))\n",
    "\n",
    "data.head()"
   ]
  },
  {
   "cell_type": "markdown",
   "id": "adaf30ce",
   "metadata": {
    "papermill": {
     "duration": 0.020998,
     "end_time": "2024-02-22T15:08:04.602190",
     "exception": false,
     "start_time": "2024-02-22T15:08:04.581192",
     "status": "completed"
    },
    "tags": []
   },
   "source": [
    "#### 🔎 Removing stopwords in natural language processing (NLP) involves the elimination of common words that occur frequently in a language but typically do not carry much semantic meaning. These words, known as stopwords, include articles (e.g., \"a\", \"an\", \"the\"), prepositions (e.g., \"in\", \"on\", \"at\"), conjunctions (e.g., \"and\", \"but\", \"or\"), and other high-frequency words."
   ]
  },
  {
   "cell_type": "markdown",
   "id": "3f5e1adf",
   "metadata": {
    "papermill": {
     "duration": 0.021179,
     "end_time": "2024-02-22T15:08:04.644792",
     "exception": false,
     "start_time": "2024-02-22T15:08:04.623613",
     "status": "completed"
    },
    "tags": []
   },
   "source": [
    "## Remove whitespaces <a class=\"anchor\" id=\"section_3_5\"></a>"
   ]
  },
  {
   "cell_type": "code",
   "execution_count": 19,
   "id": "0a8fd690",
   "metadata": {
    "execution": {
     "iopub.execute_input": "2024-02-22T15:08:04.688229Z",
     "iopub.status.busy": "2024-02-22T15:08:04.687781Z",
     "iopub.status.idle": "2024-02-22T15:08:04.732300Z",
     "shell.execute_reply": "2024-02-22T15:08:04.731326Z"
    },
    "papermill": {
     "duration": 0.069486,
     "end_time": "2024-02-22T15:08:04.734879",
     "exception": false,
     "start_time": "2024-02-22T15:08:04.665393",
     "status": "completed"
    },
    "tags": []
   },
   "outputs": [
    {
     "data": {
      "text/html": [
       "<div>\n",
       "<style scoped>\n",
       "    .dataframe tbody tr th:only-of-type {\n",
       "        vertical-align: middle;\n",
       "    }\n",
       "\n",
       "    .dataframe tbody tr th {\n",
       "        vertical-align: top;\n",
       "    }\n",
       "\n",
       "    .dataframe thead th {\n",
       "        text-align: right;\n",
       "    }\n",
       "</style>\n",
       "<table border=\"1\" class=\"dataframe\">\n",
       "  <thead>\n",
       "    <tr style=\"text-align: right;\">\n",
       "      <th></th>\n",
       "      <th>date</th>\n",
       "      <th>content</th>\n",
       "      <th>score</th>\n",
       "      <th>userName</th>\n",
       "      <th>app</th>\n",
       "      <th>platform</th>\n",
       "      <th>appVersion</th>\n",
       "    </tr>\n",
       "  </thead>\n",
       "  <tbody>\n",
       "    <tr>\n",
       "      <th>0</th>\n",
       "      <td>2022-10-20 17:08:18</td>\n",
       "      <td>single traveling lot work, around world - used...</td>\n",
       "      <td>5</td>\n",
       "      <td>TBeck-NARC</td>\n",
       "      <td>Bolt Food</td>\n",
       "      <td>App Store</td>\n",
       "      <td>Do not know</td>\n",
       "    </tr>\n",
       "    <tr>\n",
       "      <th>1</th>\n",
       "      <td>2022-08-19 15:56:51</td>\n",
       "      <td>app well-designed nice use. complaint lack app...</td>\n",
       "      <td>4</td>\n",
       "      <td>henhouse</td>\n",
       "      <td>Bolt Food</td>\n",
       "      <td>App Store</td>\n",
       "      <td>Do not know</td>\n",
       "    </tr>\n",
       "    <tr>\n",
       "      <th>2</th>\n",
       "      <td>2023-07-26 09:03:32</td>\n",
       "      <td>i’ve payment issue month now, sure \"fraud\" rig...</td>\n",
       "      <td>1</td>\n",
       "      <td>hsghdoenvskrbbd</td>\n",
       "      <td>Bolt Food</td>\n",
       "      <td>App Store</td>\n",
       "      <td>Do not know</td>\n",
       "    </tr>\n",
       "    <tr>\n",
       "      <th>3</th>\n",
       "      <td>2022-11-22 10:00:43</td>\n",
       "      <td>live activities would nice instead getting con...</td>\n",
       "      <td>4</td>\n",
       "      <td>Sussy31</td>\n",
       "      <td>Bolt Food</td>\n",
       "      <td>App Store</td>\n",
       "      <td>Do not know</td>\n",
       "    </tr>\n",
       "    <tr>\n",
       "      <th>4</th>\n",
       "      <td>2023-06-14 09:04:39</td>\n",
       "      <td>waiting hour food reached restaurant learnt fo...</td>\n",
       "      <td>1</td>\n",
       "      <td>schalas1985</td>\n",
       "      <td>Bolt Food</td>\n",
       "      <td>App Store</td>\n",
       "      <td>Do not know</td>\n",
       "    </tr>\n",
       "  </tbody>\n",
       "</table>\n",
       "</div>"
      ],
      "text/plain": [
       "                  date                                            content  \\\n",
       "0  2022-10-20 17:08:18  single traveling lot work, around world - used...   \n",
       "1  2022-08-19 15:56:51  app well-designed nice use. complaint lack app...   \n",
       "2  2023-07-26 09:03:32  i’ve payment issue month now, sure \"fraud\" rig...   \n",
       "3  2022-11-22 10:00:43  live activities would nice instead getting con...   \n",
       "4  2023-06-14 09:04:39  waiting hour food reached restaurant learnt fo...   \n",
       "\n",
       "   score         userName        app   platform   appVersion  \n",
       "0      5       TBeck-NARC  Bolt Food  App Store  Do not know  \n",
       "1      4         henhouse  Bolt Food  App Store  Do not know  \n",
       "2      1  hsghdoenvskrbbd  Bolt Food  App Store  Do not know  \n",
       "3      4          Sussy31  Bolt Food  App Store  Do not know  \n",
       "4      1      schalas1985  Bolt Food  App Store  Do not know  "
      ]
     },
     "execution_count": 19,
     "metadata": {},
     "output_type": "execute_result"
    }
   ],
   "source": [
    "# Remove whitespace from text\n",
    "def remove_whitespace(text):\n",
    "    if isinstance(text, str):  # Check if text is a string\n",
    "        return \" \".join(text.split())\n",
    "    elif isinstance(text, list):  # If it's a list of strings, apply to each element\n",
    "        return [\" \".join(t.split()) for t in text]\n",
    "    else:\n",
    "        return text\n",
    "\n",
    "data['content'] = remove_whitespace(data['content'])\n",
    "\n",
    "data.head()"
   ]
  },
  {
   "cell_type": "markdown",
   "id": "12af4f36",
   "metadata": {
    "papermill": {
     "duration": 0.022035,
     "end_time": "2024-02-22T15:08:04.780320",
     "exception": false,
     "start_time": "2024-02-22T15:08:04.758285",
     "status": "completed"
    },
    "tags": []
   },
   "source": [
    "## Lemmatization <a class=\"anchor\" id=\"section_3_6\"></a>"
   ]
  },
  {
   "cell_type": "code",
   "execution_count": 20,
   "id": "d655108d",
   "metadata": {
    "execution": {
     "iopub.execute_input": "2024-02-22T15:08:04.828402Z",
     "iopub.status.busy": "2024-02-22T15:08:04.827942Z",
     "iopub.status.idle": "2024-02-22T15:09:48.744927Z",
     "shell.execute_reply": "2024-02-22T15:09:48.743834Z"
    },
    "papermill": {
     "duration": 103.966381,
     "end_time": "2024-02-22T15:09:48.769947",
     "exception": false,
     "start_time": "2024-02-22T15:08:04.803566",
     "status": "completed"
    },
    "tags": []
   },
   "outputs": [
    {
     "data": {
      "text/html": [
       "<div>\n",
       "<style scoped>\n",
       "    .dataframe tbody tr th:only-of-type {\n",
       "        vertical-align: middle;\n",
       "    }\n",
       "\n",
       "    .dataframe tbody tr th {\n",
       "        vertical-align: top;\n",
       "    }\n",
       "\n",
       "    .dataframe thead th {\n",
       "        text-align: right;\n",
       "    }\n",
       "</style>\n",
       "<table border=\"1\" class=\"dataframe\">\n",
       "  <thead>\n",
       "    <tr style=\"text-align: right;\">\n",
       "      <th></th>\n",
       "      <th>date</th>\n",
       "      <th>content</th>\n",
       "      <th>score</th>\n",
       "      <th>userName</th>\n",
       "      <th>app</th>\n",
       "      <th>platform</th>\n",
       "      <th>appVersion</th>\n",
       "    </tr>\n",
       "  </thead>\n",
       "  <tbody>\n",
       "    <tr>\n",
       "      <th>0</th>\n",
       "      <td>2022-10-20 17:08:18</td>\n",
       "      <td>single traveling lot work, around world - used...</td>\n",
       "      <td>5</td>\n",
       "      <td>TBeck-NARC</td>\n",
       "      <td>Bolt Food</td>\n",
       "      <td>App Store</td>\n",
       "      <td>Do not know</td>\n",
       "    </tr>\n",
       "    <tr>\n",
       "      <th>1</th>\n",
       "      <td>2022-08-19 15:56:51</td>\n",
       "      <td>app well-designed nice use. complaint lack app...</td>\n",
       "      <td>4</td>\n",
       "      <td>henhouse</td>\n",
       "      <td>Bolt Food</td>\n",
       "      <td>App Store</td>\n",
       "      <td>Do not know</td>\n",
       "    </tr>\n",
       "    <tr>\n",
       "      <th>2</th>\n",
       "      <td>2023-07-26 09:03:32</td>\n",
       "      <td>i’ve payment issue month now, sure \"fraud\" rig...</td>\n",
       "      <td>1</td>\n",
       "      <td>hsghdoenvskrbbd</td>\n",
       "      <td>Bolt Food</td>\n",
       "      <td>App Store</td>\n",
       "      <td>Do not know</td>\n",
       "    </tr>\n",
       "    <tr>\n",
       "      <th>3</th>\n",
       "      <td>2022-11-22 10:00:43</td>\n",
       "      <td>live activity would nice instead getting const...</td>\n",
       "      <td>4</td>\n",
       "      <td>Sussy31</td>\n",
       "      <td>Bolt Food</td>\n",
       "      <td>App Store</td>\n",
       "      <td>Do not know</td>\n",
       "    </tr>\n",
       "    <tr>\n",
       "      <th>4</th>\n",
       "      <td>2023-06-14 09:04:39</td>\n",
       "      <td>waiting hour food reached restaurant learnt fo...</td>\n",
       "      <td>1</td>\n",
       "      <td>schalas1985</td>\n",
       "      <td>Bolt Food</td>\n",
       "      <td>App Store</td>\n",
       "      <td>Do not know</td>\n",
       "    </tr>\n",
       "  </tbody>\n",
       "</table>\n",
       "</div>"
      ],
      "text/plain": [
       "                  date                                            content  \\\n",
       "0  2022-10-20 17:08:18  single traveling lot work, around world - used...   \n",
       "1  2022-08-19 15:56:51  app well-designed nice use. complaint lack app...   \n",
       "2  2023-07-26 09:03:32  i’ve payment issue month now, sure \"fraud\" rig...   \n",
       "3  2022-11-22 10:00:43  live activity would nice instead getting const...   \n",
       "4  2023-06-14 09:04:39  waiting hour food reached restaurant learnt fo...   \n",
       "\n",
       "   score         userName        app   platform   appVersion  \n",
       "0      5       TBeck-NARC  Bolt Food  App Store  Do not know  \n",
       "1      4         henhouse  Bolt Food  App Store  Do not know  \n",
       "2      1  hsghdoenvskrbbd  Bolt Food  App Store  Do not know  \n",
       "3      4          Sussy31  Bolt Food  App Store  Do not know  \n",
       "4      1      schalas1985  Bolt Food  App Store  Do not know  "
      ]
     },
     "execution_count": 20,
     "metadata": {},
     "output_type": "execute_result"
    }
   ],
   "source": [
    "lemma=WordNetLemmatizer()\n",
    "\n",
    "def preprocessdata(text):\n",
    "    text= ' '.join(lemma.lemmatize(word) for word in text.split(' '))\n",
    "    return text\n",
    "\n",
    "data['content']=data['content'].apply(preprocessdata)\n",
    "\n",
    "data.head()"
   ]
  },
  {
   "cell_type": "markdown",
   "id": "d836eb0d",
   "metadata": {
    "papermill": {
     "duration": 0.022624,
     "end_time": "2024-02-22T15:09:48.815648",
     "exception": false,
     "start_time": "2024-02-22T15:09:48.793024",
     "status": "completed"
    },
    "tags": []
   },
   "source": [
    "#### 🔎 Lemmatization in natural language processing (NLP) is the process of reducing words to their base or canonical form, known as a lemma. Unlike stemming, which involves removing prefixes or suffixes to produce a root word (which may not always be a valid word), lemmatization aims to transform words to their dictionary form, ensuring that the resulting lemma is a valid word."
   ]
  },
  {
   "cell_type": "markdown",
   "id": "c6d32256",
   "metadata": {
    "papermill": {
     "duration": 0.02232,
     "end_time": "2024-02-22T15:09:48.860220",
     "exception": false,
     "start_time": "2024-02-22T15:09:48.837900",
     "status": "completed"
    },
    "tags": []
   },
   "source": [
    "## Wordcloud <a class=\"anchor\" id=\"section_3_7\"></a>"
   ]
  },
  {
   "cell_type": "code",
   "execution_count": 21,
   "id": "5e70092a",
   "metadata": {
    "execution": {
     "iopub.execute_input": "2024-02-22T15:09:48.907588Z",
     "iopub.status.busy": "2024-02-22T15:09:48.907064Z",
     "iopub.status.idle": "2024-02-22T15:09:49.255373Z",
     "shell.execute_reply": "2024-02-22T15:09:49.254385Z"
    },
    "papermill": {
     "duration": 0.376703,
     "end_time": "2024-02-22T15:09:49.259156",
     "exception": false,
     "start_time": "2024-02-22T15:09:48.882453",
     "status": "completed"
    },
    "tags": []
   },
   "outputs": [
    {
     "name": "stdout",
     "output_type": "stream",
     "text": [
      "<wordcloud.wordcloud.WordCloud object at 0x7d14ea010b80>\n"
     ]
    },
    {
     "data": {
      "image/png": "[encoded data removed]",
      "text/plain": [
       "<Figure size 640x480 with 1 Axes>"
      ]
     },
     "metadata": {},
     "output_type": "display_data"
    }
   ],
   "source": [
    "def random_color_func(word=None, font_size=None, position=None,  orientation=None, font_path=None, random_state=None):\n",
    "    h = 130\n",
    "    s = int(100.0 * 255.0 / 255.0)\n",
    "    l = int(100.0 * float(random_state.randint(60, 120)) / 255.0)\n",
    "    return \"hsl({}, {}%, {}%)\".format(h, s, l)\n",
    "\n",
    "wordcloud = WordCloud(\n",
    "                          background_color='white',\n",
    "                          max_words=200,\n",
    "                          max_font_size=40, \n",
    "                          random_state=42\n",
    "                         ).generate(str(data['content']))\n",
    "print(wordcloud)\n",
    "fig = plt.figure(1)\n",
    "plt.imshow(wordcloud.recolor(color_func= random_color_func, random_state=3),\n",
    "           interpolation=\"bilinear\")\n",
    "plt.axis('off')\n",
    "plt.show()"
   ]
  },
  {
   "cell_type": "markdown",
   "id": "b7b51e03",
   "metadata": {
    "papermill": {
     "duration": 0.023879,
     "end_time": "2024-02-22T15:09:49.307902",
     "exception": false,
     "start_time": "2024-02-22T15:09:49.284023",
     "status": "completed"
    },
    "tags": []
   },
   "source": [
    "# Sentiment Analysis 🫀 <a class=\"anchor\" id=\"chapter4\"></a>"
   ]
  },
  {
   "cell_type": "code",
   "execution_count": 22,
   "id": "b0d31ca1",
   "metadata": {
    "execution": {
     "iopub.execute_input": "2024-02-22T15:09:49.359277Z",
     "iopub.status.busy": "2024-02-22T15:09:49.358873Z",
     "iopub.status.idle": "2024-02-22T15:09:49.382904Z",
     "shell.execute_reply": "2024-02-22T15:09:49.381591Z"
    },
    "papermill": {
     "duration": 0.052466,
     "end_time": "2024-02-22T15:09:49.385946",
     "exception": false,
     "start_time": "2024-02-22T15:09:49.333480",
     "status": "completed"
    },
    "tags": []
   },
   "outputs": [],
   "source": [
    "analyser = SentimentIntensityAnalyzer()\n",
    "\n",
    "# Using polarity scores for knowing the polarity of each text\n",
    "def sentiment_analyzer_score(sentence):\n",
    "    score = analyser.polarity_scores(sentence)\n",
    "    print(\"{:-<40} {}\".format(sentence, str(score)))"
   ]
  },
  {
   "cell_type": "markdown",
   "id": "817809c8",
   "metadata": {
    "papermill": {
     "duration": 0.02407,
     "end_time": "2024-02-22T15:09:49.433495",
     "exception": false,
     "start_time": "2024-02-22T15:09:49.409425",
     "status": "completed"
    },
    "tags": []
   },
   "source": [
    "#### 🔎 Sentiment polarity scoring in natural language processing (NLP) involves the assignment of numerical values to text data to quantify the sentiment expressed within the text. These scores typically indicate whether the sentiment of the text is positive, negative, or neutral, providing insights into the overall emotional tone or opinion conveyed by the text."
   ]
  },
  {
   "cell_type": "code",
   "execution_count": 23,
   "id": "3a158ad9",
   "metadata": {
    "execution": {
     "iopub.execute_input": "2024-02-22T15:09:49.486278Z",
     "iopub.status.busy": "2024-02-22T15:09:49.485788Z",
     "iopub.status.idle": "2024-02-22T15:12:46.919838Z",
     "shell.execute_reply": "2024-02-22T15:12:46.918299Z"
    },
    "papermill": {
     "duration": 177.487292,
     "end_time": "2024-02-22T15:12:46.947178",
     "exception": false,
     "start_time": "2024-02-22T15:09:49.459886",
     "status": "completed"
    },
    "tags": []
   },
   "outputs": [
    {
     "data": {
      "text/html": [
       "<div>\n",
       "<style scoped>\n",
       "    .dataframe tbody tr th:only-of-type {\n",
       "        vertical-align: middle;\n",
       "    }\n",
       "\n",
       "    .dataframe tbody tr th {\n",
       "        vertical-align: top;\n",
       "    }\n",
       "\n",
       "    .dataframe thead th {\n",
       "        text-align: right;\n",
       "    }\n",
       "</style>\n",
       "<table border=\"1\" class=\"dataframe\">\n",
       "  <thead>\n",
       "    <tr style=\"text-align: right;\">\n",
       "      <th></th>\n",
       "      <th>date</th>\n",
       "      <th>content</th>\n",
       "      <th>score</th>\n",
       "      <th>userName</th>\n",
       "      <th>app</th>\n",
       "      <th>platform</th>\n",
       "      <th>appVersion</th>\n",
       "      <th>sent_scores</th>\n",
       "    </tr>\n",
       "  </thead>\n",
       "  <tbody>\n",
       "    <tr>\n",
       "      <th>0</th>\n",
       "      <td>2022-10-20 17:08:18</td>\n",
       "      <td>single traveling lot work, around world - used...</td>\n",
       "      <td>5</td>\n",
       "      <td>TBeck-NARC</td>\n",
       "      <td>Bolt Food</td>\n",
       "      <td>App Store</td>\n",
       "      <td>Do not know</td>\n",
       "      <td>{'neg': 0.025, 'neu': 0.712, 'pos': 0.263, 'co...</td>\n",
       "    </tr>\n",
       "    <tr>\n",
       "      <th>1</th>\n",
       "      <td>2022-08-19 15:56:51</td>\n",
       "      <td>app well-designed nice use. complaint lack app...</td>\n",
       "      <td>4</td>\n",
       "      <td>henhouse</td>\n",
       "      <td>Bolt Food</td>\n",
       "      <td>App Store</td>\n",
       "      <td>Do not know</td>\n",
       "      <td>{'neg': 0.165, 'neu': 0.532, 'pos': 0.303, 'co...</td>\n",
       "    </tr>\n",
       "    <tr>\n",
       "      <th>2</th>\n",
       "      <td>2023-07-26 09:03:32</td>\n",
       "      <td>i’ve payment issue month now, sure \"fraud\" rig...</td>\n",
       "      <td>1</td>\n",
       "      <td>hsghdoenvskrbbd</td>\n",
       "      <td>Bolt Food</td>\n",
       "      <td>App Store</td>\n",
       "      <td>Do not know</td>\n",
       "      <td>{'neg': 0.229, 'neu': 0.695, 'pos': 0.076, 'co...</td>\n",
       "    </tr>\n",
       "    <tr>\n",
       "      <th>3</th>\n",
       "      <td>2022-11-22 10:00:43</td>\n",
       "      <td>live activity would nice instead getting const...</td>\n",
       "      <td>4</td>\n",
       "      <td>Sussy31</td>\n",
       "      <td>Bolt Food</td>\n",
       "      <td>App Store</td>\n",
       "      <td>Do not know</td>\n",
       "      <td>{'neg': 0.133, 'neu': 0.474, 'pos': 0.393, 'co...</td>\n",
       "    </tr>\n",
       "    <tr>\n",
       "      <th>4</th>\n",
       "      <td>2023-06-14 09:04:39</td>\n",
       "      <td>waiting hour food reached restaurant learnt fo...</td>\n",
       "      <td>1</td>\n",
       "      <td>schalas1985</td>\n",
       "      <td>Bolt Food</td>\n",
       "      <td>App Store</td>\n",
       "      <td>Do not know</td>\n",
       "      <td>{'neg': 0.112, 'neu': 0.796, 'pos': 0.092, 'co...</td>\n",
       "    </tr>\n",
       "  </tbody>\n",
       "</table>\n",
       "</div>"
      ],
      "text/plain": [
       "                  date                                            content  \\\n",
       "0  2022-10-20 17:08:18  single traveling lot work, around world - used...   \n",
       "1  2022-08-19 15:56:51  app well-designed nice use. complaint lack app...   \n",
       "2  2023-07-26 09:03:32  i’ve payment issue month now, sure \"fraud\" rig...   \n",
       "3  2022-11-22 10:00:43  live activity would nice instead getting const...   \n",
       "4  2023-06-14 09:04:39  waiting hour food reached restaurant learnt fo...   \n",
       "\n",
       "   score         userName        app   platform   appVersion  \\\n",
       "0      5       TBeck-NARC  Bolt Food  App Store  Do not know   \n",
       "1      4         henhouse  Bolt Food  App Store  Do not know   \n",
       "2      1  hsghdoenvskrbbd  Bolt Food  App Store  Do not know   \n",
       "3      4          Sussy31  Bolt Food  App Store  Do not know   \n",
       "4      1      schalas1985  Bolt Food  App Store  Do not know   \n",
       "\n",
       "                                         sent_scores  \n",
       "0  {'neg': 0.025, 'neu': 0.712, 'pos': 0.263, 'co...  \n",
       "1  {'neg': 0.165, 'neu': 0.532, 'pos': 0.303, 'co...  \n",
       "2  {'neg': 0.229, 'neu': 0.695, 'pos': 0.076, 'co...  \n",
       "3  {'neg': 0.133, 'neu': 0.474, 'pos': 0.393, 'co...  \n",
       "4  {'neg': 0.112, 'neu': 0.796, 'pos': 0.092, 'co...  "
      ]
     },
     "execution_count": 23,
     "metadata": {},
     "output_type": "execute_result"
    }
   ],
   "source": [
    "data['sent_scores'] = data['content'].apply(lambda review: analyser.polarity_scores(review))\n",
    "\n",
    "data.head()"
   ]
  },
  {
   "cell_type": "code",
   "execution_count": 24,
   "id": "4c817afc",
   "metadata": {
    "execution": {
     "iopub.execute_input": "2024-02-22T15:12:46.998485Z",
     "iopub.status.busy": "2024-02-22T15:12:46.997407Z",
     "iopub.status.idle": "2024-02-22T15:12:47.565795Z",
     "shell.execute_reply": "2024-02-22T15:12:47.564604Z"
    },
    "papermill": {
     "duration": 0.59736,
     "end_time": "2024-02-22T15:12:47.568695",
     "exception": false,
     "start_time": "2024-02-22T15:12:46.971335",
     "status": "completed"
    },
    "tags": []
   },
   "outputs": [
    {
     "data": {
      "text/html": [
       "<div>\n",
       "<style scoped>\n",
       "    .dataframe tbody tr th:only-of-type {\n",
       "        vertical-align: middle;\n",
       "    }\n",
       "\n",
       "    .dataframe tbody tr th {\n",
       "        vertical-align: top;\n",
       "    }\n",
       "\n",
       "    .dataframe thead th {\n",
       "        text-align: right;\n",
       "    }\n",
       "</style>\n",
       "<table border=\"1\" class=\"dataframe\">\n",
       "  <thead>\n",
       "    <tr style=\"text-align: right;\">\n",
       "      <th></th>\n",
       "      <th>date</th>\n",
       "      <th>content</th>\n",
       "      <th>score</th>\n",
       "      <th>userName</th>\n",
       "      <th>app</th>\n",
       "      <th>platform</th>\n",
       "      <th>appVersion</th>\n",
       "      <th>sent_scores</th>\n",
       "      <th>compound</th>\n",
       "    </tr>\n",
       "  </thead>\n",
       "  <tbody>\n",
       "    <tr>\n",
       "      <th>0</th>\n",
       "      <td>2022-10-20 17:08:18</td>\n",
       "      <td>single traveling lot work, around world - used...</td>\n",
       "      <td>5</td>\n",
       "      <td>TBeck-NARC</td>\n",
       "      <td>Bolt Food</td>\n",
       "      <td>App Store</td>\n",
       "      <td>Do not know</td>\n",
       "      <td>{'neg': 0.025, 'neu': 0.712, 'pos': 0.263, 'co...</td>\n",
       "      <td>0.9655</td>\n",
       "    </tr>\n",
       "    <tr>\n",
       "      <th>1</th>\n",
       "      <td>2022-08-19 15:56:51</td>\n",
       "      <td>app well-designed nice use. complaint lack app...</td>\n",
       "      <td>4</td>\n",
       "      <td>henhouse</td>\n",
       "      <td>Bolt Food</td>\n",
       "      <td>App Store</td>\n",
       "      <td>Do not know</td>\n",
       "      <td>{'neg': 0.165, 'neu': 0.532, 'pos': 0.303, 'co...</td>\n",
       "      <td>0.8528</td>\n",
       "    </tr>\n",
       "    <tr>\n",
       "      <th>2</th>\n",
       "      <td>2023-07-26 09:03:32</td>\n",
       "      <td>i’ve payment issue month now, sure \"fraud\" rig...</td>\n",
       "      <td>1</td>\n",
       "      <td>hsghdoenvskrbbd</td>\n",
       "      <td>Bolt Food</td>\n",
       "      <td>App Store</td>\n",
       "      <td>Do not know</td>\n",
       "      <td>{'neg': 0.229, 'neu': 0.695, 'pos': 0.076, 'co...</td>\n",
       "      <td>-0.9515</td>\n",
       "    </tr>\n",
       "    <tr>\n",
       "      <th>3</th>\n",
       "      <td>2022-11-22 10:00:43</td>\n",
       "      <td>live activity would nice instead getting const...</td>\n",
       "      <td>4</td>\n",
       "      <td>Sussy31</td>\n",
       "      <td>Bolt Food</td>\n",
       "      <td>App Store</td>\n",
       "      <td>Do not know</td>\n",
       "      <td>{'neg': 0.133, 'neu': 0.474, 'pos': 0.393, 'co...</td>\n",
       "      <td>0.7579</td>\n",
       "    </tr>\n",
       "    <tr>\n",
       "      <th>4</th>\n",
       "      <td>2023-06-14 09:04:39</td>\n",
       "      <td>waiting hour food reached restaurant learnt fo...</td>\n",
       "      <td>1</td>\n",
       "      <td>schalas1985</td>\n",
       "      <td>Bolt Food</td>\n",
       "      <td>App Store</td>\n",
       "      <td>Do not know</td>\n",
       "      <td>{'neg': 0.112, 'neu': 0.796, 'pos': 0.092, 'co...</td>\n",
       "      <td>-0.4280</td>\n",
       "    </tr>\n",
       "  </tbody>\n",
       "</table>\n",
       "</div>"
      ],
      "text/plain": [
       "                  date                                            content  \\\n",
       "0  2022-10-20 17:08:18  single traveling lot work, around world - used...   \n",
       "1  2022-08-19 15:56:51  app well-designed nice use. complaint lack app...   \n",
       "2  2023-07-26 09:03:32  i’ve payment issue month now, sure \"fraud\" rig...   \n",
       "3  2022-11-22 10:00:43  live activity would nice instead getting const...   \n",
       "4  2023-06-14 09:04:39  waiting hour food reached restaurant learnt fo...   \n",
       "\n",
       "   score         userName        app   platform   appVersion  \\\n",
       "0      5       TBeck-NARC  Bolt Food  App Store  Do not know   \n",
       "1      4         henhouse  Bolt Food  App Store  Do not know   \n",
       "2      1  hsghdoenvskrbbd  Bolt Food  App Store  Do not know   \n",
       "3      4          Sussy31  Bolt Food  App Store  Do not know   \n",
       "4      1      schalas1985  Bolt Food  App Store  Do not know   \n",
       "\n",
       "                                         sent_scores  compound  \n",
       "0  {'neg': 0.025, 'neu': 0.712, 'pos': 0.263, 'co...    0.9655  \n",
       "1  {'neg': 0.165, 'neu': 0.532, 'pos': 0.303, 'co...    0.8528  \n",
       "2  {'neg': 0.229, 'neu': 0.695, 'pos': 0.076, 'co...   -0.9515  \n",
       "3  {'neg': 0.133, 'neu': 0.474, 'pos': 0.393, 'co...    0.7579  \n",
       "4  {'neg': 0.112, 'neu': 0.796, 'pos': 0.092, 'co...   -0.4280  "
      ]
     },
     "execution_count": 24,
     "metadata": {},
     "output_type": "execute_result"
    }
   ],
   "source": [
    "data['compound']  = data['sent_scores'].apply(lambda score_dict: score_dict['compound'])\n",
    "\n",
    "data.head()"
   ]
  },
  {
   "cell_type": "code",
   "execution_count": 25,
   "id": "6bf8645c",
   "metadata": {
    "execution": {
     "iopub.execute_input": "2024-02-22T15:12:47.623849Z",
     "iopub.status.busy": "2024-02-22T15:12:47.623136Z",
     "iopub.status.idle": "2024-02-22T15:12:48.192238Z",
     "shell.execute_reply": "2024-02-22T15:12:48.190838Z"
    },
    "papermill": {
     "duration": 0.599879,
     "end_time": "2024-02-22T15:12:48.195627",
     "exception": false,
     "start_time": "2024-02-22T15:12:47.595748",
     "status": "completed"
    },
    "tags": []
   },
   "outputs": [
    {
     "data": {
      "text/html": [
       "<div>\n",
       "<style scoped>\n",
       "    .dataframe tbody tr th:only-of-type {\n",
       "        vertical-align: middle;\n",
       "    }\n",
       "\n",
       "    .dataframe tbody tr th {\n",
       "        vertical-align: top;\n",
       "    }\n",
       "\n",
       "    .dataframe thead th {\n",
       "        text-align: right;\n",
       "    }\n",
       "</style>\n",
       "<table border=\"1\" class=\"dataframe\">\n",
       "  <thead>\n",
       "    <tr style=\"text-align: right;\">\n",
       "      <th></th>\n",
       "      <th>date</th>\n",
       "      <th>content</th>\n",
       "      <th>score</th>\n",
       "      <th>userName</th>\n",
       "      <th>app</th>\n",
       "      <th>platform</th>\n",
       "      <th>appVersion</th>\n",
       "      <th>sent_scores</th>\n",
       "      <th>compound</th>\n",
       "      <th>sentiment</th>\n",
       "    </tr>\n",
       "  </thead>\n",
       "  <tbody>\n",
       "    <tr>\n",
       "      <th>0</th>\n",
       "      <td>2022-10-20 17:08:18</td>\n",
       "      <td>single traveling lot work, around world - used...</td>\n",
       "      <td>5</td>\n",
       "      <td>TBeck-NARC</td>\n",
       "      <td>Bolt Food</td>\n",
       "      <td>App Store</td>\n",
       "      <td>Do not know</td>\n",
       "      <td>{'neg': 0.025, 'neu': 0.712, 'pos': 0.263, 'co...</td>\n",
       "      <td>0.9655</td>\n",
       "      <td>Positive</td>\n",
       "    </tr>\n",
       "    <tr>\n",
       "      <th>1</th>\n",
       "      <td>2022-08-19 15:56:51</td>\n",
       "      <td>app well-designed nice use. complaint lack app...</td>\n",
       "      <td>4</td>\n",
       "      <td>henhouse</td>\n",
       "      <td>Bolt Food</td>\n",
       "      <td>App Store</td>\n",
       "      <td>Do not know</td>\n",
       "      <td>{'neg': 0.165, 'neu': 0.532, 'pos': 0.303, 'co...</td>\n",
       "      <td>0.8528</td>\n",
       "      <td>Positive</td>\n",
       "    </tr>\n",
       "    <tr>\n",
       "      <th>2</th>\n",
       "      <td>2023-07-26 09:03:32</td>\n",
       "      <td>i’ve payment issue month now, sure \"fraud\" rig...</td>\n",
       "      <td>1</td>\n",
       "      <td>hsghdoenvskrbbd</td>\n",
       "      <td>Bolt Food</td>\n",
       "      <td>App Store</td>\n",
       "      <td>Do not know</td>\n",
       "      <td>{'neg': 0.229, 'neu': 0.695, 'pos': 0.076, 'co...</td>\n",
       "      <td>-0.9515</td>\n",
       "      <td>Negative</td>\n",
       "    </tr>\n",
       "    <tr>\n",
       "      <th>3</th>\n",
       "      <td>2022-11-22 10:00:43</td>\n",
       "      <td>live activity would nice instead getting const...</td>\n",
       "      <td>4</td>\n",
       "      <td>Sussy31</td>\n",
       "      <td>Bolt Food</td>\n",
       "      <td>App Store</td>\n",
       "      <td>Do not know</td>\n",
       "      <td>{'neg': 0.133, 'neu': 0.474, 'pos': 0.393, 'co...</td>\n",
       "      <td>0.7579</td>\n",
       "      <td>Positive</td>\n",
       "    </tr>\n",
       "    <tr>\n",
       "      <th>4</th>\n",
       "      <td>2023-06-14 09:04:39</td>\n",
       "      <td>waiting hour food reached restaurant learnt fo...</td>\n",
       "      <td>1</td>\n",
       "      <td>schalas1985</td>\n",
       "      <td>Bolt Food</td>\n",
       "      <td>App Store</td>\n",
       "      <td>Do not know</td>\n",
       "      <td>{'neg': 0.112, 'neu': 0.796, 'pos': 0.092, 'co...</td>\n",
       "      <td>-0.4280</td>\n",
       "      <td>Negative</td>\n",
       "    </tr>\n",
       "  </tbody>\n",
       "</table>\n",
       "</div>"
      ],
      "text/plain": [
       "                  date                                            content  \\\n",
       "0  2022-10-20 17:08:18  single traveling lot work, around world - used...   \n",
       "1  2022-08-19 15:56:51  app well-designed nice use. complaint lack app...   \n",
       "2  2023-07-26 09:03:32  i’ve payment issue month now, sure \"fraud\" rig...   \n",
       "3  2022-11-22 10:00:43  live activity would nice instead getting const...   \n",
       "4  2023-06-14 09:04:39  waiting hour food reached restaurant learnt fo...   \n",
       "\n",
       "   score         userName        app   platform   appVersion  \\\n",
       "0      5       TBeck-NARC  Bolt Food  App Store  Do not know   \n",
       "1      4         henhouse  Bolt Food  App Store  Do not know   \n",
       "2      1  hsghdoenvskrbbd  Bolt Food  App Store  Do not know   \n",
       "3      4          Sussy31  Bolt Food  App Store  Do not know   \n",
       "4      1      schalas1985  Bolt Food  App Store  Do not know   \n",
       "\n",
       "                                         sent_scores  compound sentiment  \n",
       "0  {'neg': 0.025, 'neu': 0.712, 'pos': 0.263, 'co...    0.9655  Positive  \n",
       "1  {'neg': 0.165, 'neu': 0.532, 'pos': 0.303, 'co...    0.8528  Positive  \n",
       "2  {'neg': 0.229, 'neu': 0.695, 'pos': 0.076, 'co...   -0.9515  Negative  \n",
       "3  {'neg': 0.133, 'neu': 0.474, 'pos': 0.393, 'co...    0.7579  Positive  \n",
       "4  {'neg': 0.112, 'neu': 0.796, 'pos': 0.092, 'co...   -0.4280  Negative  "
      ]
     },
     "execution_count": 25,
     "metadata": {},
     "output_type": "execute_result"
    }
   ],
   "source": [
    "def Sentimnt(x):\n",
    "    if x>= 0.05:\n",
    "        return \"Positive\"\n",
    "    elif x<= -0.05:\n",
    "        return \"Negative\"\n",
    "    else:\n",
    "        return \"Neutral\"\n",
    "\n",
    "data['sentiment'] = data['compound'].apply(Sentimnt)\n",
    "\n",
    "\n",
    "data.head()"
   ]
  },
  {
   "cell_type": "code",
   "execution_count": 26,
   "id": "44936b0e",
   "metadata": {
    "execution": {
     "iopub.execute_input": "2024-02-22T15:12:48.254837Z",
     "iopub.status.busy": "2024-02-22T15:12:48.253979Z",
     "iopub.status.idle": "2024-02-22T15:12:49.574231Z",
     "shell.execute_reply": "2024-02-22T15:12:49.572673Z"
    },
    "papermill": {
     "duration": 1.3546,
     "end_time": "2024-02-22T15:12:49.577340",
     "exception": false,
     "start_time": "2024-02-22T15:12:48.222740",
     "status": "completed"
    },
    "tags": []
   },
   "outputs": [
    {
     "data": {
      "text/html": [
       "<style type=\"text/css\">\n",
       "#T_1493d_row0_col1 {\n",
       "  background-color: #023858;\n",
       "  color: #f1f1f1;\n",
       "}\n",
       "#T_1493d_row1_col1 {\n",
       "  background-color: #f1ebf5;\n",
       "  color: #000000;\n",
       "}\n",
       "#T_1493d_row2_col1 {\n",
       "  background-color: #fff7fb;\n",
       "  color: #000000;\n",
       "}\n",
       "</style>\n",
       "<table id=\"T_1493d\">\n",
       "  <thead>\n",
       "    <tr>\n",
       "      <th class=\"blank level0\" >&nbsp;</th>\n",
       "      <th id=\"T_1493d_level0_col0\" class=\"col_heading level0 col0\" >sentiment</th>\n",
       "      <th id=\"T_1493d_level0_col1\" class=\"col_heading level0 col1\" >content</th>\n",
       "    </tr>\n",
       "  </thead>\n",
       "  <tbody>\n",
       "    <tr>\n",
       "      <th id=\"T_1493d_level0_row0\" class=\"row_heading level0 row0\" >2</th>\n",
       "      <td id=\"T_1493d_row0_col0\" class=\"data row0 col0\" >Positive</td>\n",
       "      <td id=\"T_1493d_row0_col1\" class=\"data row0 col1\" >757858</td>\n",
       "    </tr>\n",
       "    <tr>\n",
       "      <th id=\"T_1493d_level0_row1\" class=\"row_heading level0 row1\" >0</th>\n",
       "      <td id=\"T_1493d_row1_col0\" class=\"data row1 col0\" >Negative</td>\n",
       "      <td id=\"T_1493d_row1_col1\" class=\"data row1 col1\" >269808</td>\n",
       "    </tr>\n",
       "    <tr>\n",
       "      <th id=\"T_1493d_level0_row2\" class=\"row_heading level0 row2\" >1</th>\n",
       "      <td id=\"T_1493d_row2_col0\" class=\"data row2 col0\" >Neutral</td>\n",
       "      <td id=\"T_1493d_row2_col1\" class=\"data row2 col1\" >219395</td>\n",
       "    </tr>\n",
       "  </tbody>\n",
       "</table>\n"
      ],
      "text/plain": [
       "<pandas.io.formats.style.Styler at 0x7d150a8079a0>"
      ]
     },
     "execution_count": 26,
     "metadata": {},
     "output_type": "execute_result"
    }
   ],
   "source": [
    "sent_df1 = data.groupby('sentiment').count()['content'].reset_index().sort_values(by='content',ascending=False)\n",
    "sns.set_style(\"white\")\n",
    "sns.set_palette(\"Set2\")\n",
    "sent_df1.style.background_gradient()"
   ]
  },
  {
   "cell_type": "code",
   "execution_count": 27,
   "id": "b58804cc",
   "metadata": {
    "execution": {
     "iopub.execute_input": "2024-02-22T15:12:49.632341Z",
     "iopub.status.busy": "2024-02-22T15:12:49.631734Z",
     "iopub.status.idle": "2024-02-22T15:12:49.760451Z",
     "shell.execute_reply": "2024-02-22T15:12:49.758766Z"
    },
    "papermill": {
     "duration": 0.161551,
     "end_time": "2024-02-22T15:12:49.763907",
     "exception": false,
     "start_time": "2024-02-22T15:12:49.602356",
     "status": "completed"
    },
    "tags": []
   },
   "outputs": [
    {
     "data": {
      "text/html": [
       "<div>                            <div id=\"d68efc93-0db8-4a8d-9889-b404eedbf0da\" class=\"plotly-graph-div\" style=\"height:525px; width:100%;\"></div>            <script type=\"text/javascript\">                require([\"plotly\"], function(Plotly) {                    window.PLOTLYENV=window.PLOTLYENV || {};                                    if (document.getElementById(\"d68efc93-0db8-4a8d-9889-b404eedbf0da\")) {                    Plotly.newPlot(                        \"d68efc93-0db8-4a8d-9889-b404eedbf0da\",                        [{\"hovertemplate\":\"percentage=%{x}\\u003cbr\\u003esentiment=%{y}\\u003cextra\\u003e\\u003c\\u002fextra\\u003e\",\"legendgroup\":\"\",\"marker\":{\"color\":\"#636efa\"},\"name\":\"\",\"orientation\":\"h\",\"showlegend\":false,\"x\":[60.77,21.64,17.59],\"xaxis\":\"x\",\"y\":[\"Positive\",\"Negative\",\"Neutral\"],\"yaxis\":\"y\",\"type\":\"funnel\",\"texttemplate\":\"%{x}%\"}],                        {\"template\":{\"data\":{\"histogram2dcontour\":[{\"type\":\"histogram2dcontour\",\"colorbar\":{\"outlinewidth\":0,\"ticks\":\"\"},\"colorscale\":[[0.0,\"#0d0887\"],[0.1111111111111111,\"#46039f\"],[0.2222222222222222,\"#7201a8\"],[0.3333333333333333,\"#9c179e\"],[0.4444444444444444,\"#bd3786\"],[0.5555555555555556,\"#d8576b\"],[0.6666666666666666,\"#ed7953\"],[0.7777777777777778,\"#fb9f3a\"],[0.8888888888888888,\"#fdca26\"],[1.0,\"#f0f921\"]]}],\"choropleth\":[{\"type\":\"choropleth\",\"colorbar\":{\"outlinewidth\":0,\"ticks\":\"\"}}],\"histogram2d\":[{\"type\":\"histogram2d\",\"colorbar\":{\"outlinewidth\":0,\"ticks\":\"\"},\"colorscale\":[[0.0,\"#0d0887\"],[0.1111111111111111,\"#46039f\"],[0.2222222222222222,\"#7201a8\"],[0.3333333333333333,\"#9c179e\"],[0.4444444444444444,\"#bd3786\"],[0.5555555555555556,\"#d8576b\"],[0.6666666666666666,\"#ed7953\"],[0.7777777777777778,\"#fb9f3a\"],[0.8888888888888888,\"#fdca26\"],[1.0,\"#f0f921\"]]}],\"heatmap\":[{\"type\":\"heatmap\",\"colorbar\":{\"outlinewidth\":0,\"ticks\":\"\"},\"colorscale\":[[0.0,\"#0d0887\"],[0.1111111111111111,\"#46039f\"],[0.2222222222222222,\"#7201a8\"],[0.3333333333333333,\"#9c179e\"],[0.4444444444444444,\"#bd3786\"],[0.5555555555555556,\"#d8576b\"],[0.6666666666666666,\"#ed7953\"],[0.7777777777777778,\"#fb9f3a\"],[0.8888888888888888,\"#fdca26\"],[1.0,\"#f0f921\"]]}],\"heatmapgl\":[{\"type\":\"heatmapgl\",\"colorbar\":{\"outlinewidth\":0,\"ticks\":\"\"},\"colorscale\":[[0.0,\"#0d0887\"],[0.1111111111111111,\"#46039f\"],[0.2222222222222222,\"#7201a8\"],[0.3333333333333333,\"#9c179e\"],[0.4444444444444444,\"#bd3786\"],[0.5555555555555556,\"#d8576b\"],[0.6666666666666666,\"#ed7953\"],[0.7777777777777778,\"#fb9f3a\"],[0.8888888888888888,\"#fdca26\"],[1.0,\"#f0f921\"]]}],\"contourcarpet\":[{\"type\":\"contourcarpet\",\"colorbar\":{\"outlinewidth\":0,\"ticks\":\"\"}}],\"contour\":[{\"type\":\"contour\",\"colorbar\":{\"outlinewidth\":0,\"ticks\":\"\"},\"colorscale\":[[0.0,\"#0d0887\"],[0.1111111111111111,\"#46039f\"],[0.2222222222222222,\"#7201a8\"],[0.3333333333333333,\"#9c179e\"],[0.4444444444444444,\"#bd3786\"],[0.5555555555555556,\"#d8576b\"],[0.6666666666666666,\"#ed7953\"],[0.7777777777777778,\"#fb9f3a\"],[0.8888888888888888,\"#fdca26\"],[1.0,\"#f0f921\"]]}],\"surface\":[{\"type\":\"surface\",\"colorbar\":{\"outlinewidth\":0,\"ticks\":\"\"},\"colorscale\":[[0.0,\"#0d0887\"],[0.1111111111111111,\"#46039f\"],[0.2222222222222222,\"#7201a8\"],[0.3333333333333333,\"#9c179e\"],[0.4444444444444444,\"#bd3786\"],[0.5555555555555556,\"#d8576b\"],[0.6666666666666666,\"#ed7953\"],[0.7777777777777778,\"#fb9f3a\"],[0.8888888888888888,\"#fdca26\"],[1.0,\"#f0f921\"]]}],\"mesh3d\":[{\"type\":\"mesh3d\",\"colorbar\":{\"outlinewidth\":0,\"ticks\":\"\"}}],\"scatter\":[{\"fillpattern\":{\"fillmode\":\"overlay\",\"size\":10,\"solidity\":0.2},\"type\":\"scatter\"}],\"parcoords\":[{\"type\":\"parcoords\",\"line\":{\"colorbar\":{\"outlinewidth\":0,\"ticks\":\"\"}}}],\"scatterpolargl\":[{\"type\":\"scatterpolargl\",\"marker\":{\"colorbar\":{\"outlinewidth\":0,\"ticks\":\"\"}}}],\"bar\":[{\"error_x\":{\"color\":\"#2a3f5f\"},\"error_y\":{\"color\":\"#2a3f5f\"},\"marker\":{\"line\":{\"color\":\"#E5ECF6\",\"width\":0.5},\"pattern\":{\"fillmode\":\"overlay\",\"size\":10,\"solidity\":0.2}},\"type\":\"bar\"}],\"scattergeo\":[{\"type\":\"scattergeo\",\"marker\":{\"colorbar\":{\"outlinewidth\":0,\"ticks\":\"\"}}}],\"scatterpolar\":[{\"type\":\"scatterpolar\",\"marker\":{\"colorbar\":{\"outlinewidth\":0,\"ticks\":\"\"}}}],\"histogram\":[{\"marker\":{\"pattern\":{\"fillmode\":\"overlay\",\"size\":10,\"solidity\":0.2}},\"type\":\"histogram\"}],\"scattergl\":[{\"type\":\"scattergl\",\"marker\":{\"colorbar\":{\"outlinewidth\":0,\"ticks\":\"\"}}}],\"scatter3d\":[{\"type\":\"scatter3d\",\"line\":{\"colorbar\":{\"outlinewidth\":0,\"ticks\":\"\"}},\"marker\":{\"colorbar\":{\"outlinewidth\":0,\"ticks\":\"\"}}}],\"scattermapbox\":[{\"type\":\"scattermapbox\",\"marker\":{\"colorbar\":{\"outlinewidth\":0,\"ticks\":\"\"}}}],\"scatterternary\":[{\"type\":\"scatterternary\",\"marker\":{\"colorbar\":{\"outlinewidth\":0,\"ticks\":\"\"}}}],\"scattercarpet\":[{\"type\":\"scattercarpet\",\"marker\":{\"colorbar\":{\"outlinewidth\":0,\"ticks\":\"\"}}}],\"carpet\":[{\"aaxis\":{\"endlinecolor\":\"#2a3f5f\",\"gridcolor\":\"white\",\"linecolor\":\"white\",\"minorgridcolor\":\"white\",\"startlinecolor\":\"#2a3f5f\"},\"baxis\":{\"endlinecolor\":\"#2a3f5f\",\"gridcolor\":\"white\",\"linecolor\":\"white\",\"minorgridcolor\":\"white\",\"startlinecolor\":\"#2a3f5f\"},\"type\":\"carpet\"}],\"table\":[{\"cells\":{\"fill\":{\"color\":\"#EBF0F8\"},\"line\":{\"color\":\"white\"}},\"header\":{\"fill\":{\"color\":\"#C8D4E3\"},\"line\":{\"color\":\"white\"}},\"type\":\"table\"}],\"barpolar\":[{\"marker\":{\"line\":{\"color\":\"#E5ECF6\",\"width\":0.5},\"pattern\":{\"fillmode\":\"overlay\",\"size\":10,\"solidity\":0.2}},\"type\":\"barpolar\"}],\"pie\":[{\"automargin\":true,\"type\":\"pie\"}]},\"layout\":{\"autotypenumbers\":\"strict\",\"colorway\":[\"#636efa\",\"#EF553B\",\"#00cc96\",\"#ab63fa\",\"#FFA15A\",\"#19d3f3\",\"#FF6692\",\"#B6E880\",\"#FF97FF\",\"#FECB52\"],\"font\":{\"color\":\"#2a3f5f\"},\"hovermode\":\"closest\",\"hoverlabel\":{\"align\":\"left\"},\"paper_bgcolor\":\"white\",\"plot_bgcolor\":\"#E5ECF6\",\"polar\":{\"bgcolor\":\"#E5ECF6\",\"angularaxis\":{\"gridcolor\":\"white\",\"linecolor\":\"white\",\"ticks\":\"\"},\"radialaxis\":{\"gridcolor\":\"white\",\"linecolor\":\"white\",\"ticks\":\"\"}},\"ternary\":{\"bgcolor\":\"#E5ECF6\",\"aaxis\":{\"gridcolor\":\"white\",\"linecolor\":\"white\",\"ticks\":\"\"},\"baxis\":{\"gridcolor\":\"white\",\"linecolor\":\"white\",\"ticks\":\"\"},\"caxis\":{\"gridcolor\":\"white\",\"linecolor\":\"white\",\"ticks\":\"\"}},\"coloraxis\":{\"colorbar\":{\"outlinewidth\":0,\"ticks\":\"\"}},\"colorscale\":{\"sequential\":[[0.0,\"#0d0887\"],[0.1111111111111111,\"#46039f\"],[0.2222222222222222,\"#7201a8\"],[0.3333333333333333,\"#9c179e\"],[0.4444444444444444,\"#bd3786\"],[0.5555555555555556,\"#d8576b\"],[0.6666666666666666,\"#ed7953\"],[0.7777777777777778,\"#fb9f3a\"],[0.8888888888888888,\"#fdca26\"],[1.0,\"#f0f921\"]],\"sequentialminus\":[[0.0,\"#0d0887\"],[0.1111111111111111,\"#46039f\"],[0.2222222222222222,\"#7201a8\"],[0.3333333333333333,\"#9c179e\"],[0.4444444444444444,\"#bd3786\"],[0.5555555555555556,\"#d8576b\"],[0.6666666666666666,\"#ed7953\"],[0.7777777777777778,\"#fb9f3a\"],[0.8888888888888888,\"#fdca26\"],[1.0,\"#f0f921\"]],\"diverging\":[[0,\"#8e0152\"],[0.1,\"#c51b7d\"],[0.2,\"#de77ae\"],[0.3,\"#f1b6da\"],[0.4,\"#fde0ef\"],[0.5,\"#f7f7f7\"],[0.6,\"#e6f5d0\"],[0.7,\"#b8e186\"],[0.8,\"#7fbc41\"],[0.9,\"#4d9221\"],[1,\"#276419\"]]},\"xaxis\":{\"gridcolor\":\"white\",\"linecolor\":\"white\",\"ticks\":\"\",\"title\":{\"standoff\":15},\"zerolinecolor\":\"white\",\"automargin\":true,\"zerolinewidth\":2},\"yaxis\":{\"gridcolor\":\"white\",\"linecolor\":\"white\",\"ticks\":\"\",\"title\":{\"standoff\":15},\"zerolinecolor\":\"white\",\"automargin\":true,\"zerolinewidth\":2},\"scene\":{\"xaxis\":{\"backgroundcolor\":\"#E5ECF6\",\"gridcolor\":\"white\",\"linecolor\":\"white\",\"showbackground\":true,\"ticks\":\"\",\"zerolinecolor\":\"white\",\"gridwidth\":2},\"yaxis\":{\"backgroundcolor\":\"#E5ECF6\",\"gridcolor\":\"white\",\"linecolor\":\"white\",\"showbackground\":true,\"ticks\":\"\",\"zerolinecolor\":\"white\",\"gridwidth\":2},\"zaxis\":{\"backgroundcolor\":\"#E5ECF6\",\"gridcolor\":\"white\",\"linecolor\":\"white\",\"showbackground\":true,\"ticks\":\"\",\"zerolinecolor\":\"white\",\"gridwidth\":2}},\"shapedefaults\":{\"line\":{\"color\":\"#2a3f5f\"}},\"annotationdefaults\":{\"arrowcolor\":\"#2a3f5f\",\"arrowhead\":0,\"arrowwidth\":1},\"geo\":{\"bgcolor\":\"white\",\"landcolor\":\"#E5ECF6\",\"subunitcolor\":\"white\",\"showland\":true,\"showlakes\":true,\"lakecolor\":\"white\"},\"title\":{\"x\":0.05},\"mapbox\":{\"style\":\"light\"}}},\"xaxis\":{\"anchor\":\"y\",\"domain\":[0.0,1.0],\"title\":{\"text\":\"percentage\"}},\"yaxis\":{\"anchor\":\"x\",\"domain\":[0.0,1.0],\"title\":{\"text\":\"sentiment\"}},\"legend\":{\"tracegroupgap\":0},\"margin\":{\"t\":60}},                        {\"responsive\": true}                    ).then(function(){\n",
       "                            \n",
       "var gd = document.getElementById('d68efc93-0db8-4a8d-9889-b404eedbf0da');\n",
       "var x = new MutationObserver(function (mutations, observer) {{\n",
       "        var display = window.getComputedStyle(gd).display;\n",
       "        if (!display || display === 'none') {{\n",
       "            console.log([gd, 'removed!']);\n",
       "            Plotly.purge(gd);\n",
       "            observer.disconnect();\n",
       "        }}\n",
       "}});\n",
       "\n",
       "// Listen for the removal of the full notebook cells\n",
       "var notebookContainer = gd.closest('#notebook-container');\n",
       "if (notebookContainer) {{\n",
       "    x.observe(notebookContainer, {childList: true});\n",
       "}}\n",
       "\n",
       "// Listen for the clearing of the current output cell\n",
       "var outputEl = gd.closest('.output');\n",
       "if (outputEl) {{\n",
       "    x.observe(outputEl, {childList: true});\n",
       "}}\n",
       "\n",
       "                        })                };                });            </script>        </div>"
      ]
     },
     "metadata": {},
     "output_type": "display_data"
    }
   ],
   "source": [
    "# Calculate percentage values\n",
    "total_content = sent_df1['content'].sum()\n",
    "sent_df1['percentage'] = (sent_df1['content'] / total_content) * 100\n",
    "\n",
    "# Format percentage values to two decimal places\n",
    "sent_df1['percentage'] = sent_df1['percentage'].round(2)\n",
    "\n",
    "# Create funnel chart\n",
    "fig = px.funnel(sent_df1, x='percentage', y='sentiment')\n",
    "\n",
    "# Add percentage symbol to value text\n",
    "fig.update_traces(texttemplate='%{x}%')\n",
    "\n",
    "fig.show()"
   ]
  },
  {
   "cell_type": "code",
   "execution_count": 28,
   "id": "67f7c894",
   "metadata": {
    "execution": {
     "iopub.execute_input": "2024-02-22T15:12:49.820079Z",
     "iopub.status.busy": "2024-02-22T15:12:49.819643Z",
     "iopub.status.idle": "2024-02-22T15:12:57.055755Z",
     "shell.execute_reply": "2024-02-22T15:12:57.054564Z"
    },
    "papermill": {
     "duration": 7.268524,
     "end_time": "2024-02-22T15:12:57.058541",
     "exception": false,
     "start_time": "2024-02-22T15:12:49.790017",
     "status": "completed"
    },
    "tags": []
   },
   "outputs": [
    {
     "data": {
      "text/html": [
       "<div>                            <div id=\"4d16020b-e29e-453e-9a99-c9479738b4a4\" class=\"plotly-graph-div\" style=\"height:700px; width:700px;\"></div>            <script type=\"text/javascript\">                require([\"plotly\"], function(Plotly) {                    window.PLOTLYENV=window.PLOTLYENV || {};                                    if (document.getElementById(\"4d16020b-e29e-453e-9a99-c9479738b4a4\")) {                    Plotly.newPlot(                        \"4d16020b-e29e-453e-9a99-c9479738b4a4\",                        [{\"alignmentgroup\":\"True\",\"hovertemplate\":\"Common Words Score=%{y}\\u003cbr\\u003eCount=%{x}\\u003cextra\\u003e\\u003c\\u002fextra\\u003e\",\"legendgroup\":\"order\",\"marker\":{\"color\":\"#636efa\",\"pattern\":{\"shape\":\"\"}},\"name\":\"order\",\"offsetgroup\":\"order\",\"orientation\":\"h\",\"showlegend\":true,\"textposition\":\"auto\",\"x\":[288613],\"xaxis\":\"x\",\"y\":[\"order\"],\"yaxis\":\"y\",\"type\":\"bar\"},{\"alignmentgroup\":\"True\",\"hovertemplate\":\"Common Words Score=%{y}\\u003cbr\\u003eCount=%{x}\\u003cextra\\u003e\\u003c\\u002fextra\\u003e\",\"legendgroup\":\"app\",\"marker\":{\"color\":\"#EF553B\",\"pattern\":{\"shape\":\"\"}},\"name\":\"app\",\"offsetgroup\":\"app\",\"orientation\":\"h\",\"showlegend\":true,\"textposition\":\"auto\",\"x\":[273762],\"xaxis\":\"x\",\"y\":[\"app\"],\"yaxis\":\"y\",\"type\":\"bar\"},{\"alignmentgroup\":\"True\",\"hovertemplate\":\"Common Words Score=%{y}\\u003cbr\\u003eCount=%{x}\\u003cextra\\u003e\\u003c\\u002fextra\\u003e\",\"legendgroup\":\"food\",\"marker\":{\"color\":\"#00cc96\",\"pattern\":{\"shape\":\"\"}},\"name\":\"food\",\"offsetgroup\":\"food\",\"orientation\":\"h\",\"showlegend\":true,\"textposition\":\"auto\",\"x\":[226314],\"xaxis\":\"x\",\"y\":[\"food\"],\"yaxis\":\"y\",\"type\":\"bar\"},{\"alignmentgroup\":\"True\",\"hovertemplate\":\"Common Words Score=%{y}\\u003cbr\\u003eCount=%{x}\\u003cextra\\u003e\\u003c\\u002fextra\\u003e\",\"legendgroup\":\"delivery\",\"marker\":{\"color\":\"#ab63fa\",\"pattern\":{\"shape\":\"\"}},\"name\":\"delivery\",\"offsetgroup\":\"delivery\",\"orientation\":\"h\",\"showlegend\":true,\"textposition\":\"auto\",\"x\":[169743],\"xaxis\":\"x\",\"y\":[\"delivery\"],\"yaxis\":\"y\",\"type\":\"bar\"},{\"alignmentgroup\":\"True\",\"hovertemplate\":\"Common Words Score=%{y}\\u003cbr\\u003eCount=%{x}\\u003cextra\\u003e\\u003c\\u002fextra\\u003e\",\"legendgroup\":\"good\",\"marker\":{\"color\":\"#FFA15A\",\"pattern\":{\"shape\":\"\"}},\"name\":\"good\",\"offsetgroup\":\"good\",\"orientation\":\"h\",\"showlegend\":true,\"textposition\":\"auto\",\"x\":[160135],\"xaxis\":\"x\",\"y\":[\"good\"],\"yaxis\":\"y\",\"type\":\"bar\"},{\"alignmentgroup\":\"True\",\"hovertemplate\":\"Common Words Score=%{y}\\u003cbr\\u003eCount=%{x}\\u003cextra\\u003e\\u003c\\u002fextra\\u003e\",\"legendgroup\":\"service\",\"marker\":{\"color\":\"#19d3f3\",\"pattern\":{\"shape\":\"\"}},\"name\":\"service\",\"offsetgroup\":\"service\",\"orientation\":\"h\",\"showlegend\":true,\"textposition\":\"auto\",\"x\":[154634],\"xaxis\":\"x\",\"y\":[\"service\"],\"yaxis\":\"y\",\"type\":\"bar\"},{\"alignmentgroup\":\"True\",\"hovertemplate\":\"Common Words Score=%{y}\\u003cbr\\u003eCount=%{x}\\u003cextra\\u003e\\u003c\\u002fextra\\u003e\",\"legendgroup\":\"uber\",\"marker\":{\"color\":\"#FF6692\",\"pattern\":{\"shape\":\"\"}},\"name\":\"uber\",\"offsetgroup\":\"uber\",\"orientation\":\"h\",\"showlegend\":true,\"textposition\":\"auto\",\"x\":[148669],\"xaxis\":\"x\",\"y\":[\"uber\"],\"yaxis\":\"y\",\"type\":\"bar\"},{\"alignmentgroup\":\"True\",\"hovertemplate\":\"Common Words Score=%{y}\\u003cbr\\u003eCount=%{x}\\u003cextra\\u003e\\u003c\\u002fextra\\u003e\",\"legendgroup\":\"time\",\"marker\":{\"color\":\"#B6E880\",\"pattern\":{\"shape\":\"\"}},\"name\":\"time\",\"offsetgroup\":\"time\",\"orientation\":\"h\",\"showlegend\":true,\"textposition\":\"auto\",\"x\":[143211],\"xaxis\":\"x\",\"y\":[\"time\"],\"yaxis\":\"y\",\"type\":\"bar\"},{\"alignmentgroup\":\"True\",\"hovertemplate\":\"Common Words Score=%{y}\\u003cbr\\u003eCount=%{x}\\u003cextra\\u003e\\u003c\\u002fextra\\u003e\",\"legendgroup\":\"get\",\"marker\":{\"color\":\"#FF97FF\",\"pattern\":{\"shape\":\"\"}},\"name\":\"get\",\"offsetgroup\":\"get\",\"orientation\":\"h\",\"showlegend\":true,\"textposition\":\"auto\",\"x\":[125169],\"xaxis\":\"x\",\"y\":[\"get\"],\"yaxis\":\"y\",\"type\":\"bar\"},{\"alignmentgroup\":\"True\",\"hovertemplate\":\"Common Words Score=%{y}\\u003cbr\\u003eCount=%{x}\\u003cextra\\u003e\\u003c\\u002fextra\\u003e\",\"legendgroup\":\"great\",\"marker\":{\"color\":\"#FECB52\",\"pattern\":{\"shape\":\"\"}},\"name\":\"great\",\"offsetgroup\":\"great\",\"orientation\":\"h\",\"showlegend\":true,\"textposition\":\"auto\",\"x\":[113326],\"xaxis\":\"x\",\"y\":[\"great\"],\"yaxis\":\"y\",\"type\":\"bar\"}],                        {\"template\":{\"data\":{\"histogram2dcontour\":[{\"type\":\"histogram2dcontour\",\"colorbar\":{\"outlinewidth\":0,\"ticks\":\"\"},\"colorscale\":[[0.0,\"#0d0887\"],[0.1111111111111111,\"#46039f\"],[0.2222222222222222,\"#7201a8\"],[0.3333333333333333,\"#9c179e\"],[0.4444444444444444,\"#bd3786\"],[0.5555555555555556,\"#d8576b\"],[0.6666666666666666,\"#ed7953\"],[0.7777777777777778,\"#fb9f3a\"],[0.8888888888888888,\"#fdca26\"],[1.0,\"#f0f921\"]]}],\"choropleth\":[{\"type\":\"choropleth\",\"colorbar\":{\"outlinewidth\":0,\"ticks\":\"\"}}],\"histogram2d\":[{\"type\":\"histogram2d\",\"colorbar\":{\"outlinewidth\":0,\"ticks\":\"\"},\"colorscale\":[[0.0,\"#0d0887\"],[0.1111111111111111,\"#46039f\"],[0.2222222222222222,\"#7201a8\"],[0.3333333333333333,\"#9c179e\"],[0.4444444444444444,\"#bd3786\"],[0.5555555555555556,\"#d8576b\"],[0.6666666666666666,\"#ed7953\"],[0.7777777777777778,\"#fb9f3a\"],[0.8888888888888888,\"#fdca26\"],[1.0,\"#f0f921\"]]}],\"heatmap\":[{\"type\":\"heatmap\",\"colorbar\":{\"outlinewidth\":0,\"ticks\":\"\"},\"colorscale\":[[0.0,\"#0d0887\"],[0.1111111111111111,\"#46039f\"],[0.2222222222222222,\"#7201a8\"],[0.3333333333333333,\"#9c179e\"],[0.4444444444444444,\"#bd3786\"],[0.5555555555555556,\"#d8576b\"],[0.6666666666666666,\"#ed7953\"],[0.7777777777777778,\"#fb9f3a\"],[0.8888888888888888,\"#fdca26\"],[1.0,\"#f0f921\"]]}],\"heatmapgl\":[{\"type\":\"heatmapgl\",\"colorbar\":{\"outlinewidth\":0,\"ticks\":\"\"},\"colorscale\":[[0.0,\"#0d0887\"],[0.1111111111111111,\"#46039f\"],[0.2222222222222222,\"#7201a8\"],[0.3333333333333333,\"#9c179e\"],[0.4444444444444444,\"#bd3786\"],[0.5555555555555556,\"#d8576b\"],[0.6666666666666666,\"#ed7953\"],[0.7777777777777778,\"#fb9f3a\"],[0.8888888888888888,\"#fdca26\"],[1.0,\"#f0f921\"]]}],\"contourcarpet\":[{\"type\":\"contourcarpet\",\"colorbar\":{\"outlinewidth\":0,\"ticks\":\"\"}}],\"contour\":[{\"type\":\"contour\",\"colorbar\":{\"outlinewidth\":0,\"ticks\":\"\"},\"colorscale\":[[0.0,\"#0d0887\"],[0.1111111111111111,\"#46039f\"],[0.2222222222222222,\"#7201a8\"],[0.3333333333333333,\"#9c179e\"],[0.4444444444444444,\"#bd3786\"],[0.5555555555555556,\"#d8576b\"],[0.6666666666666666,\"#ed7953\"],[0.7777777777777778,\"#fb9f3a\"],[0.8888888888888888,\"#fdca26\"],[1.0,\"#f0f921\"]]}],\"surface\":[{\"type\":\"surface\",\"colorbar\":{\"outlinewidth\":0,\"ticks\":\"\"},\"colorscale\":[[0.0,\"#0d0887\"],[0.1111111111111111,\"#46039f\"],[0.2222222222222222,\"#7201a8\"],[0.3333333333333333,\"#9c179e\"],[0.4444444444444444,\"#bd3786\"],[0.5555555555555556,\"#d8576b\"],[0.6666666666666666,\"#ed7953\"],[0.7777777777777778,\"#fb9f3a\"],[0.8888888888888888,\"#fdca26\"],[1.0,\"#f0f921\"]]}],\"mesh3d\":[{\"type\":\"mesh3d\",\"colorbar\":{\"outlinewidth\":0,\"ticks\":\"\"}}],\"scatter\":[{\"fillpattern\":{\"fillmode\":\"overlay\",\"size\":10,\"solidity\":0.2},\"type\":\"scatter\"}],\"parcoords\":[{\"type\":\"parcoords\",\"line\":{\"colorbar\":{\"outlinewidth\":0,\"ticks\":\"\"}}}],\"scatterpolargl\":[{\"type\":\"scatterpolargl\",\"marker\":{\"colorbar\":{\"outlinewidth\":0,\"ticks\":\"\"}}}],\"bar\":[{\"error_x\":{\"color\":\"#2a3f5f\"},\"error_y\":{\"color\":\"#2a3f5f\"},\"marker\":{\"line\":{\"color\":\"#E5ECF6\",\"width\":0.5},\"pattern\":{\"fillmode\":\"overlay\",\"size\":10,\"solidity\":0.2}},\"type\":\"bar\"}],\"scattergeo\":[{\"type\":\"scattergeo\",\"marker\":{\"colorbar\":{\"outlinewidth\":0,\"ticks\":\"\"}}}],\"scatterpolar\":[{\"type\":\"scatterpolar\",\"marker\":{\"colorbar\":{\"outlinewidth\":0,\"ticks\":\"\"}}}],\"histogram\":[{\"marker\":{\"pattern\":{\"fillmode\":\"overlay\",\"size\":10,\"solidity\":0.2}},\"type\":\"histogram\"}],\"scattergl\":[{\"type\":\"scattergl\",\"marker\":{\"colorbar\":{\"outlinewidth\":0,\"ticks\":\"\"}}}],\"scatter3d\":[{\"type\":\"scatter3d\",\"line\":{\"colorbar\":{\"outlinewidth\":0,\"ticks\":\"\"}},\"marker\":{\"colorbar\":{\"outlinewidth\":0,\"ticks\":\"\"}}}],\"scattermapbox\":[{\"type\":\"scattermapbox\",\"marker\":{\"colorbar\":{\"outlinewidth\":0,\"ticks\":\"\"}}}],\"scatterternary\":[{\"type\":\"scatterternary\",\"marker\":{\"colorbar\":{\"outlinewidth\":0,\"ticks\":\"\"}}}],\"scattercarpet\":[{\"type\":\"scattercarpet\",\"marker\":{\"colorbar\":{\"outlinewidth\":0,\"ticks\":\"\"}}}],\"carpet\":[{\"aaxis\":{\"endlinecolor\":\"#2a3f5f\",\"gridcolor\":\"white\",\"linecolor\":\"white\",\"minorgridcolor\":\"white\",\"startlinecolor\":\"#2a3f5f\"},\"baxis\":{\"endlinecolor\":\"#2a3f5f\",\"gridcolor\":\"white\",\"linecolor\":\"white\",\"minorgridcolor\":\"white\",\"startlinecolor\":\"#2a3f5f\"},\"type\":\"carpet\"}],\"table\":[{\"cells\":{\"fill\":{\"color\":\"#EBF0F8\"},\"line\":{\"color\":\"white\"}},\"header\":{\"fill\":{\"color\":\"#C8D4E3\"},\"line\":{\"color\":\"white\"}},\"type\":\"table\"}],\"barpolar\":[{\"marker\":{\"line\":{\"color\":\"#E5ECF6\",\"width\":0.5},\"pattern\":{\"fillmode\":\"overlay\",\"size\":10,\"solidity\":0.2}},\"type\":\"barpolar\"}],\"pie\":[{\"automargin\":true,\"type\":\"pie\"}]},\"layout\":{\"autotypenumbers\":\"strict\",\"colorway\":[\"#636efa\",\"#EF553B\",\"#00cc96\",\"#ab63fa\",\"#FFA15A\",\"#19d3f3\",\"#FF6692\",\"#B6E880\",\"#FF97FF\",\"#FECB52\"],\"font\":{\"color\":\"#2a3f5f\"},\"hovermode\":\"closest\",\"hoverlabel\":{\"align\":\"left\"},\"paper_bgcolor\":\"white\",\"plot_bgcolor\":\"#E5ECF6\",\"polar\":{\"bgcolor\":\"#E5ECF6\",\"angularaxis\":{\"gridcolor\":\"white\",\"linecolor\":\"white\",\"ticks\":\"\"},\"radialaxis\":{\"gridcolor\":\"white\",\"linecolor\":\"white\",\"ticks\":\"\"}},\"ternary\":{\"bgcolor\":\"#E5ECF6\",\"aaxis\":{\"gridcolor\":\"white\",\"linecolor\":\"white\",\"ticks\":\"\"},\"baxis\":{\"gridcolor\":\"white\",\"linecolor\":\"white\",\"ticks\":\"\"},\"caxis\":{\"gridcolor\":\"white\",\"linecolor\":\"white\",\"ticks\":\"\"}},\"coloraxis\":{\"colorbar\":{\"outlinewidth\":0,\"ticks\":\"\"}},\"colorscale\":{\"sequential\":[[0.0,\"#0d0887\"],[0.1111111111111111,\"#46039f\"],[0.2222222222222222,\"#7201a8\"],[0.3333333333333333,\"#9c179e\"],[0.4444444444444444,\"#bd3786\"],[0.5555555555555556,\"#d8576b\"],[0.6666666666666666,\"#ed7953\"],[0.7777777777777778,\"#fb9f3a\"],[0.8888888888888888,\"#fdca26\"],[1.0,\"#f0f921\"]],\"sequentialminus\":[[0.0,\"#0d0887\"],[0.1111111111111111,\"#46039f\"],[0.2222222222222222,\"#7201a8\"],[0.3333333333333333,\"#9c179e\"],[0.4444444444444444,\"#bd3786\"],[0.5555555555555556,\"#d8576b\"],[0.6666666666666666,\"#ed7953\"],[0.7777777777777778,\"#fb9f3a\"],[0.8888888888888888,\"#fdca26\"],[1.0,\"#f0f921\"]],\"diverging\":[[0,\"#8e0152\"],[0.1,\"#c51b7d\"],[0.2,\"#de77ae\"],[0.3,\"#f1b6da\"],[0.4,\"#fde0ef\"],[0.5,\"#f7f7f7\"],[0.6,\"#e6f5d0\"],[0.7,\"#b8e186\"],[0.8,\"#7fbc41\"],[0.9,\"#4d9221\"],[1,\"#276419\"]]},\"xaxis\":{\"gridcolor\":\"white\",\"linecolor\":\"white\",\"ticks\":\"\",\"title\":{\"standoff\":15},\"zerolinecolor\":\"white\",\"automargin\":true,\"zerolinewidth\":2},\"yaxis\":{\"gridcolor\":\"white\",\"linecolor\":\"white\",\"ticks\":\"\",\"title\":{\"standoff\":15},\"zerolinecolor\":\"white\",\"automargin\":true,\"zerolinewidth\":2},\"scene\":{\"xaxis\":{\"backgroundcolor\":\"#E5ECF6\",\"gridcolor\":\"white\",\"linecolor\":\"white\",\"showbackground\":true,\"ticks\":\"\",\"zerolinecolor\":\"white\",\"gridwidth\":2},\"yaxis\":{\"backgroundcolor\":\"#E5ECF6\",\"gridcolor\":\"white\",\"linecolor\":\"white\",\"showbackground\":true,\"ticks\":\"\",\"zerolinecolor\":\"white\",\"gridwidth\":2},\"zaxis\":{\"backgroundcolor\":\"#E5ECF6\",\"gridcolor\":\"white\",\"linecolor\":\"white\",\"showbackground\":true,\"ticks\":\"\",\"zerolinecolor\":\"white\",\"gridwidth\":2}},\"shapedefaults\":{\"line\":{\"color\":\"#2a3f5f\"}},\"annotationdefaults\":{\"arrowcolor\":\"#2a3f5f\",\"arrowhead\":0,\"arrowwidth\":1},\"geo\":{\"bgcolor\":\"white\",\"landcolor\":\"#E5ECF6\",\"subunitcolor\":\"white\",\"showland\":true,\"showlakes\":true,\"lakecolor\":\"white\"},\"title\":{\"x\":0.05},\"mapbox\":{\"style\":\"light\"}}},\"xaxis\":{\"anchor\":\"y\",\"domain\":[0.0,1.0],\"title\":{\"text\":\"Count\"}},\"yaxis\":{\"anchor\":\"x\",\"domain\":[0.0,1.0],\"title\":{\"text\":\"Common Words Score\"},\"categoryorder\":\"array\",\"categoryarray\":[\"great\",\"get\",\"time\",\"uber\",\"service\",\"good\",\"delivery\",\"food\",\"app\",\"order\"]},\"legend\":{\"title\":{\"text\":\"Common Words Score\"},\"tracegroupgap\":0},\"title\":{\"text\":\"Common Words - Application Reviews\"},\"barmode\":\"relative\",\"height\":700,\"width\":700},                        {\"responsive\": true}                    ).then(function(){\n",
       "                            \n",
       "var gd = document.getElementById('4d16020b-e29e-453e-9a99-c9479738b4a4');\n",
       "var x = new MutationObserver(function (mutations, observer) {{\n",
       "        var display = window.getComputedStyle(gd).display;\n",
       "        if (!display || display === 'none') {{\n",
       "            console.log([gd, 'removed!']);\n",
       "            Plotly.purge(gd);\n",
       "            observer.disconnect();\n",
       "        }}\n",
       "}});\n",
       "\n",
       "// Listen for the removal of the full notebook cells\n",
       "var notebookContainer = gd.closest('#notebook-container');\n",
       "if (notebookContainer) {{\n",
       "    x.observe(notebookContainer, {childList: true});\n",
       "}}\n",
       "\n",
       "// Listen for the clearing of the current output cell\n",
       "var outputEl = gd.closest('.output');\n",
       "if (outputEl) {{\n",
       "    x.observe(outputEl, {childList: true});\n",
       "}}\n",
       "\n",
       "                        })                };                });            </script>        </div>"
      ]
     },
     "metadata": {},
     "output_type": "display_data"
    }
   ],
   "source": [
    "from collections import Counter\n",
    "\n",
    "# Function to count word occurrences\n",
    "def count_words(text_column, num_words=10):\n",
    "    words = [word for text in text_column for word in text.split()]\n",
    "    word_freq = Counter(words)\n",
    "    common_words = [word for word, freq in word_freq.most_common(num_words)]\n",
    "    counts = [freq for word, freq in word_freq.most_common(num_words)]\n",
    "    return pd.DataFrame({'Common_words': common_words, 'Count': counts})\n",
    "\n",
    "# Count word occurrences\n",
    "words_df = count_words(data['content'])\n",
    "\n",
    "# Create bar plot\n",
    "fig = px.bar(words_df, x=\"Count\", y=\"Common_words\", title='Common Words - Application Reviews', orientation='h', width=700, height=700, color='Common_words',\n",
    "             labels={'Common_words': 'Common Words Score'})\n",
    "\n",
    "# Show plot\n",
    "fig.show()"
   ]
  },
  {
   "cell_type": "code",
   "execution_count": 29,
   "id": "5b9d635b",
   "metadata": {
    "execution": {
     "iopub.execute_input": "2024-02-22T15:12:57.111414Z",
     "iopub.status.busy": "2024-02-22T15:12:57.110887Z",
     "iopub.status.idle": "2024-02-22T15:12:58.346928Z",
     "shell.execute_reply": "2024-02-22T15:12:58.345866Z"
    },
    "papermill": {
     "duration": 1.265341,
     "end_time": "2024-02-22T15:12:58.349335",
     "exception": false,
     "start_time": "2024-02-22T15:12:57.083994",
     "status": "completed"
    },
    "tags": []
   },
   "outputs": [
    {
     "data": {
      "text/html": [
       "<div>\n",
       "<style scoped>\n",
       "    .dataframe tbody tr th:only-of-type {\n",
       "        vertical-align: middle;\n",
       "    }\n",
       "\n",
       "    .dataframe tbody tr th {\n",
       "        vertical-align: top;\n",
       "    }\n",
       "\n",
       "    .dataframe thead th {\n",
       "        text-align: right;\n",
       "    }\n",
       "</style>\n",
       "<table border=\"1\" class=\"dataframe\">\n",
       "  <thead>\n",
       "    <tr style=\"text-align: right;\">\n",
       "      <th></th>\n",
       "      <th>app</th>\n",
       "      <th>sentiment</th>\n",
       "      <th>content</th>\n",
       "    </tr>\n",
       "  </thead>\n",
       "  <tbody>\n",
       "    <tr>\n",
       "      <th>11</th>\n",
       "      <td>Uber Eats</td>\n",
       "      <td>Positive</td>\n",
       "      <td>584421</td>\n",
       "    </tr>\n",
       "    <tr>\n",
       "      <th>9</th>\n",
       "      <td>Uber Eats</td>\n",
       "      <td>Negative</td>\n",
       "      <td>214471</td>\n",
       "    </tr>\n",
       "    <tr>\n",
       "      <th>10</th>\n",
       "      <td>Uber Eats</td>\n",
       "      <td>Neutral</td>\n",
       "      <td>163274</td>\n",
       "    </tr>\n",
       "    <tr>\n",
       "      <th>8</th>\n",
       "      <td>Grubhub</td>\n",
       "      <td>Positive</td>\n",
       "      <td>133763</td>\n",
       "    </tr>\n",
       "    <tr>\n",
       "      <th>6</th>\n",
       "      <td>Grubhub</td>\n",
       "      <td>Negative</td>\n",
       "      <td>41538</td>\n",
       "    </tr>\n",
       "    <tr>\n",
       "      <th>7</th>\n",
       "      <td>Grubhub</td>\n",
       "      <td>Neutral</td>\n",
       "      <td>34483</td>\n",
       "    </tr>\n",
       "    <tr>\n",
       "      <th>5</th>\n",
       "      <td>Glovo</td>\n",
       "      <td>Positive</td>\n",
       "      <td>24226</td>\n",
       "    </tr>\n",
       "    <tr>\n",
       "      <th>4</th>\n",
       "      <td>Glovo</td>\n",
       "      <td>Neutral</td>\n",
       "      <td>14910</td>\n",
       "    </tr>\n",
       "    <tr>\n",
       "      <th>14</th>\n",
       "      <td>Wolt</td>\n",
       "      <td>Positive</td>\n",
       "      <td>11850</td>\n",
       "    </tr>\n",
       "    <tr>\n",
       "      <th>3</th>\n",
       "      <td>Glovo</td>\n",
       "      <td>Negative</td>\n",
       "      <td>8622</td>\n",
       "    </tr>\n",
       "    <tr>\n",
       "      <th>13</th>\n",
       "      <td>Wolt</td>\n",
       "      <td>Neutral</td>\n",
       "      <td>4430</td>\n",
       "    </tr>\n",
       "    <tr>\n",
       "      <th>2</th>\n",
       "      <td>Bolt Food</td>\n",
       "      <td>Positive</td>\n",
       "      <td>3598</td>\n",
       "    </tr>\n",
       "    <tr>\n",
       "      <th>0</th>\n",
       "      <td>Bolt Food</td>\n",
       "      <td>Negative</td>\n",
       "      <td>2999</td>\n",
       "    </tr>\n",
       "    <tr>\n",
       "      <th>1</th>\n",
       "      <td>Bolt Food</td>\n",
       "      <td>Neutral</td>\n",
       "      <td>2298</td>\n",
       "    </tr>\n",
       "    <tr>\n",
       "      <th>12</th>\n",
       "      <td>Wolt</td>\n",
       "      <td>Negative</td>\n",
       "      <td>2178</td>\n",
       "    </tr>\n",
       "  </tbody>\n",
       "</table>\n",
       "</div>"
      ],
      "text/plain": [
       "          app sentiment  content\n",
       "11  Uber Eats  Positive   584421\n",
       "9   Uber Eats  Negative   214471\n",
       "10  Uber Eats   Neutral   163274\n",
       "8     Grubhub  Positive   133763\n",
       "6     Grubhub  Negative    41538\n",
       "7     Grubhub   Neutral    34483\n",
       "5       Glovo  Positive    24226\n",
       "4       Glovo   Neutral    14910\n",
       "14       Wolt  Positive    11850\n",
       "3       Glovo  Negative     8622\n",
       "13       Wolt   Neutral     4430\n",
       "2   Bolt Food  Positive     3598\n",
       "0   Bolt Food  Negative     2999\n",
       "1   Bolt Food   Neutral     2298\n",
       "12       Wolt  Negative     2178"
      ]
     },
     "execution_count": 29,
     "metadata": {},
     "output_type": "execute_result"
    }
   ],
   "source": [
    "sent_df2 = data.groupby(['app', 'sentiment']).count()['content'].reset_index().sort_values(by='content', ascending=False)\n",
    "sent_df2"
   ]
  },
  {
   "cell_type": "code",
   "execution_count": 30,
   "id": "c2a61197",
   "metadata": {
    "execution": {
     "iopub.execute_input": "2024-02-22T15:12:58.407536Z",
     "iopub.status.busy": "2024-02-22T15:12:58.406917Z",
     "iopub.status.idle": "2024-02-22T15:12:58.505601Z",
     "shell.execute_reply": "2024-02-22T15:12:58.504253Z"
    },
    "papermill": {
     "duration": 0.131749,
     "end_time": "2024-02-22T15:12:58.508690",
     "exception": false,
     "start_time": "2024-02-22T15:12:58.376941",
     "status": "completed"
    },
    "tags": []
   },
   "outputs": [
    {
     "data": {
      "text/html": [
       "<div>                            <div id=\"11f72c71-c316-4517-9b45-27952cc3a4bb\" class=\"plotly-graph-div\" style=\"height:525px; width:100%;\"></div>            <script type=\"text/javascript\">                require([\"plotly\"], function(Plotly) {                    window.PLOTLYENV=window.PLOTLYENV || {};                                    if (document.getElementById(\"11f72c71-c316-4517-9b45-27952cc3a4bb\")) {                    Plotly.newPlot(                        \"11f72c71-c316-4517-9b45-27952cc3a4bb\",                        [{\"alignmentgroup\":\"True\",\"hovertemplate\":\"Sentiment=Positive\\u003cbr\\u003eApp=%{x}\\u003cbr\\u003eReview Count=%{y}\\u003cextra\\u003e\\u003c\\u002fextra\\u003e\",\"legendgroup\":\"Positive\",\"marker\":{\"color\":\"#2bd96b\",\"pattern\":{\"shape\":\"\"}},\"name\":\"Positive\",\"offsetgroup\":\"Positive\",\"orientation\":\"v\",\"showlegend\":true,\"textposition\":\"auto\",\"x\":[\"Uber Eats\",\"Grubhub\",\"Glovo\",\"Wolt\",\"Bolt Food\"],\"xaxis\":\"x\",\"y\":[584421,133763,24226,11850,3598],\"yaxis\":\"y\",\"type\":\"bar\"},{\"alignmentgroup\":\"True\",\"hovertemplate\":\"Sentiment=Negative\\u003cbr\\u003eApp=%{x}\\u003cbr\\u003eReview Count=%{y}\\u003cextra\\u003e\\u003c\\u002fextra\\u003e\",\"legendgroup\":\"Negative\",\"marker\":{\"color\":\"#ad3141\",\"pattern\":{\"shape\":\"\"}},\"name\":\"Negative\",\"offsetgroup\":\"Negative\",\"orientation\":\"v\",\"showlegend\":true,\"textposition\":\"auto\",\"x\":[\"Uber Eats\",\"Grubhub\",\"Glovo\",\"Bolt Food\",\"Wolt\"],\"xaxis\":\"x\",\"y\":[214471,41538,8622,2999,2178],\"yaxis\":\"y\",\"type\":\"bar\"},{\"alignmentgroup\":\"True\",\"hovertemplate\":\"Sentiment=Neutral\\u003cbr\\u003eApp=%{x}\\u003cbr\\u003eReview Count=%{y}\\u003cextra\\u003e\\u003c\\u002fextra\\u003e\",\"legendgroup\":\"Neutral\",\"marker\":{\"color\":\"#f7b559\",\"pattern\":{\"shape\":\"\"}},\"name\":\"Neutral\",\"offsetgroup\":\"Neutral\",\"orientation\":\"v\",\"showlegend\":true,\"textposition\":\"auto\",\"x\":[\"Uber Eats\",\"Grubhub\",\"Glovo\",\"Wolt\",\"Bolt Food\"],\"xaxis\":\"x\",\"y\":[163274,34483,14910,4430,2298],\"yaxis\":\"y\",\"type\":\"bar\"}],                        {\"template\":{\"data\":{\"histogram2dcontour\":[{\"type\":\"histogram2dcontour\",\"colorbar\":{\"outlinewidth\":0,\"ticks\":\"\"},\"colorscale\":[[0.0,\"#0d0887\"],[0.1111111111111111,\"#46039f\"],[0.2222222222222222,\"#7201a8\"],[0.3333333333333333,\"#9c179e\"],[0.4444444444444444,\"#bd3786\"],[0.5555555555555556,\"#d8576b\"],[0.6666666666666666,\"#ed7953\"],[0.7777777777777778,\"#fb9f3a\"],[0.8888888888888888,\"#fdca26\"],[1.0,\"#f0f921\"]]}],\"choropleth\":[{\"type\":\"choropleth\",\"colorbar\":{\"outlinewidth\":0,\"ticks\":\"\"}}],\"histogram2d\":[{\"type\":\"histogram2d\",\"colorbar\":{\"outlinewidth\":0,\"ticks\":\"\"},\"colorscale\":[[0.0,\"#0d0887\"],[0.1111111111111111,\"#46039f\"],[0.2222222222222222,\"#7201a8\"],[0.3333333333333333,\"#9c179e\"],[0.4444444444444444,\"#bd3786\"],[0.5555555555555556,\"#d8576b\"],[0.6666666666666666,\"#ed7953\"],[0.7777777777777778,\"#fb9f3a\"],[0.8888888888888888,\"#fdca26\"],[1.0,\"#f0f921\"]]}],\"heatmap\":[{\"type\":\"heatmap\",\"colorbar\":{\"outlinewidth\":0,\"ticks\":\"\"},\"colorscale\":[[0.0,\"#0d0887\"],[0.1111111111111111,\"#46039f\"],[0.2222222222222222,\"#7201a8\"],[0.3333333333333333,\"#9c179e\"],[0.4444444444444444,\"#bd3786\"],[0.5555555555555556,\"#d8576b\"],[0.6666666666666666,\"#ed7953\"],[0.7777777777777778,\"#fb9f3a\"],[0.8888888888888888,\"#fdca26\"],[1.0,\"#f0f921\"]]}],\"heatmapgl\":[{\"type\":\"heatmapgl\",\"colorbar\":{\"outlinewidth\":0,\"ticks\":\"\"},\"colorscale\":[[0.0,\"#0d0887\"],[0.1111111111111111,\"#46039f\"],[0.2222222222222222,\"#7201a8\"],[0.3333333333333333,\"#9c179e\"],[0.4444444444444444,\"#bd3786\"],[0.5555555555555556,\"#d8576b\"],[0.6666666666666666,\"#ed7953\"],[0.7777777777777778,\"#fb9f3a\"],[0.8888888888888888,\"#fdca26\"],[1.0,\"#f0f921\"]]}],\"contourcarpet\":[{\"type\":\"contourcarpet\",\"colorbar\":{\"outlinewidth\":0,\"ticks\":\"\"}}],\"contour\":[{\"type\":\"contour\",\"colorbar\":{\"outlinewidth\":0,\"ticks\":\"\"},\"colorscale\":[[0.0,\"#0d0887\"],[0.1111111111111111,\"#46039f\"],[0.2222222222222222,\"#7201a8\"],[0.3333333333333333,\"#9c179e\"],[0.4444444444444444,\"#bd3786\"],[0.5555555555555556,\"#d8576b\"],[0.6666666666666666,\"#ed7953\"],[0.7777777777777778,\"#fb9f3a\"],[0.8888888888888888,\"#fdca26\"],[1.0,\"#f0f921\"]]}],\"surface\":[{\"type\":\"surface\",\"colorbar\":{\"outlinewidth\":0,\"ticks\":\"\"},\"colorscale\":[[0.0,\"#0d0887\"],[0.1111111111111111,\"#46039f\"],[0.2222222222222222,\"#7201a8\"],[0.3333333333333333,\"#9c179e\"],[0.4444444444444444,\"#bd3786\"],[0.5555555555555556,\"#d8576b\"],[0.6666666666666666,\"#ed7953\"],[0.7777777777777778,\"#fb9f3a\"],[0.8888888888888888,\"#fdca26\"],[1.0,\"#f0f921\"]]}],\"mesh3d\":[{\"type\":\"mesh3d\",\"colorbar\":{\"outlinewidth\":0,\"ticks\":\"\"}}],\"scatter\":[{\"fillpattern\":{\"fillmode\":\"overlay\",\"size\":10,\"solidity\":0.2},\"type\":\"scatter\"}],\"parcoords\":[{\"type\":\"parcoords\",\"line\":{\"colorbar\":{\"outlinewidth\":0,\"ticks\":\"\"}}}],\"scatterpolargl\":[{\"type\":\"scatterpolargl\",\"marker\":{\"colorbar\":{\"outlinewidth\":0,\"ticks\":\"\"}}}],\"bar\":[{\"error_x\":{\"color\":\"#2a3f5f\"},\"error_y\":{\"color\":\"#2a3f5f\"},\"marker\":{\"line\":{\"color\":\"#E5ECF6\",\"width\":0.5},\"pattern\":{\"fillmode\":\"overlay\",\"size\":10,\"solidity\":0.2}},\"type\":\"bar\"}],\"scattergeo\":[{\"type\":\"scattergeo\",\"marker\":{\"colorbar\":{\"outlinewidth\":0,\"ticks\":\"\"}}}],\"scatterpolar\":[{\"type\":\"scatterpolar\",\"marker\":{\"colorbar\":{\"outlinewidth\":0,\"ticks\":\"\"}}}],\"histogram\":[{\"marker\":{\"pattern\":{\"fillmode\":\"overlay\",\"size\":10,\"solidity\":0.2}},\"type\":\"histogram\"}],\"scattergl\":[{\"type\":\"scattergl\",\"marker\":{\"colorbar\":{\"outlinewidth\":0,\"ticks\":\"\"}}}],\"scatter3d\":[{\"type\":\"scatter3d\",\"line\":{\"colorbar\":{\"outlinewidth\":0,\"ticks\":\"\"}},\"marker\":{\"colorbar\":{\"outlinewidth\":0,\"ticks\":\"\"}}}],\"scattermapbox\":[{\"type\":\"scattermapbox\",\"marker\":{\"colorbar\":{\"outlinewidth\":0,\"ticks\":\"\"}}}],\"scatterternary\":[{\"type\":\"scatterternary\",\"marker\":{\"colorbar\":{\"outlinewidth\":0,\"ticks\":\"\"}}}],\"scattercarpet\":[{\"type\":\"scattercarpet\",\"marker\":{\"colorbar\":{\"outlinewidth\":0,\"ticks\":\"\"}}}],\"carpet\":[{\"aaxis\":{\"endlinecolor\":\"#2a3f5f\",\"gridcolor\":\"white\",\"linecolor\":\"white\",\"minorgridcolor\":\"white\",\"startlinecolor\":\"#2a3f5f\"},\"baxis\":{\"endlinecolor\":\"#2a3f5f\",\"gridcolor\":\"white\",\"linecolor\":\"white\",\"minorgridcolor\":\"white\",\"startlinecolor\":\"#2a3f5f\"},\"type\":\"carpet\"}],\"table\":[{\"cells\":{\"fill\":{\"color\":\"#EBF0F8\"},\"line\":{\"color\":\"white\"}},\"header\":{\"fill\":{\"color\":\"#C8D4E3\"},\"line\":{\"color\":\"white\"}},\"type\":\"table\"}],\"barpolar\":[{\"marker\":{\"line\":{\"color\":\"#E5ECF6\",\"width\":0.5},\"pattern\":{\"fillmode\":\"overlay\",\"size\":10,\"solidity\":0.2}},\"type\":\"barpolar\"}],\"pie\":[{\"automargin\":true,\"type\":\"pie\"}]},\"layout\":{\"autotypenumbers\":\"strict\",\"colorway\":[\"#636efa\",\"#EF553B\",\"#00cc96\",\"#ab63fa\",\"#FFA15A\",\"#19d3f3\",\"#FF6692\",\"#B6E880\",\"#FF97FF\",\"#FECB52\"],\"font\":{\"color\":\"#2a3f5f\"},\"hovermode\":\"closest\",\"hoverlabel\":{\"align\":\"left\"},\"paper_bgcolor\":\"white\",\"plot_bgcolor\":\"#E5ECF6\",\"polar\":{\"bgcolor\":\"#E5ECF6\",\"angularaxis\":{\"gridcolor\":\"white\",\"linecolor\":\"white\",\"ticks\":\"\"},\"radialaxis\":{\"gridcolor\":\"white\",\"linecolor\":\"white\",\"ticks\":\"\"}},\"ternary\":{\"bgcolor\":\"#E5ECF6\",\"aaxis\":{\"gridcolor\":\"white\",\"linecolor\":\"white\",\"ticks\":\"\"},\"baxis\":{\"gridcolor\":\"white\",\"linecolor\":\"white\",\"ticks\":\"\"},\"caxis\":{\"gridcolor\":\"white\",\"linecolor\":\"white\",\"ticks\":\"\"}},\"coloraxis\":{\"colorbar\":{\"outlinewidth\":0,\"ticks\":\"\"}},\"colorscale\":{\"sequential\":[[0.0,\"#0d0887\"],[0.1111111111111111,\"#46039f\"],[0.2222222222222222,\"#7201a8\"],[0.3333333333333333,\"#9c179e\"],[0.4444444444444444,\"#bd3786\"],[0.5555555555555556,\"#d8576b\"],[0.6666666666666666,\"#ed7953\"],[0.7777777777777778,\"#fb9f3a\"],[0.8888888888888888,\"#fdca26\"],[1.0,\"#f0f921\"]],\"sequentialminus\":[[0.0,\"#0d0887\"],[0.1111111111111111,\"#46039f\"],[0.2222222222222222,\"#7201a8\"],[0.3333333333333333,\"#9c179e\"],[0.4444444444444444,\"#bd3786\"],[0.5555555555555556,\"#d8576b\"],[0.6666666666666666,\"#ed7953\"],[0.7777777777777778,\"#fb9f3a\"],[0.8888888888888888,\"#fdca26\"],[1.0,\"#f0f921\"]],\"diverging\":[[0,\"#8e0152\"],[0.1,\"#c51b7d\"],[0.2,\"#de77ae\"],[0.3,\"#f1b6da\"],[0.4,\"#fde0ef\"],[0.5,\"#f7f7f7\"],[0.6,\"#e6f5d0\"],[0.7,\"#b8e186\"],[0.8,\"#7fbc41\"],[0.9,\"#4d9221\"],[1,\"#276419\"]]},\"xaxis\":{\"gridcolor\":\"white\",\"linecolor\":\"white\",\"ticks\":\"\",\"title\":{\"standoff\":15},\"zerolinecolor\":\"white\",\"automargin\":true,\"zerolinewidth\":2},\"yaxis\":{\"gridcolor\":\"white\",\"linecolor\":\"white\",\"ticks\":\"\",\"title\":{\"standoff\":15},\"zerolinecolor\":\"white\",\"automargin\":true,\"zerolinewidth\":2},\"scene\":{\"xaxis\":{\"backgroundcolor\":\"#E5ECF6\",\"gridcolor\":\"white\",\"linecolor\":\"white\",\"showbackground\":true,\"ticks\":\"\",\"zerolinecolor\":\"white\",\"gridwidth\":2},\"yaxis\":{\"backgroundcolor\":\"#E5ECF6\",\"gridcolor\":\"white\",\"linecolor\":\"white\",\"showbackground\":true,\"ticks\":\"\",\"zerolinecolor\":\"white\",\"gridwidth\":2},\"zaxis\":{\"backgroundcolor\":\"#E5ECF6\",\"gridcolor\":\"white\",\"linecolor\":\"white\",\"showbackground\":true,\"ticks\":\"\",\"zerolinecolor\":\"white\",\"gridwidth\":2}},\"shapedefaults\":{\"line\":{\"color\":\"#2a3f5f\"}},\"annotationdefaults\":{\"arrowcolor\":\"#2a3f5f\",\"arrowhead\":0,\"arrowwidth\":1},\"geo\":{\"bgcolor\":\"white\",\"landcolor\":\"#E5ECF6\",\"subunitcolor\":\"white\",\"showland\":true,\"showlakes\":true,\"lakecolor\":\"white\"},\"title\":{\"x\":0.05},\"mapbox\":{\"style\":\"light\"}}},\"xaxis\":{\"anchor\":\"y\",\"domain\":[0.0,1.0],\"title\":{\"text\":\"App\"},\"tickangle\":45},\"yaxis\":{\"anchor\":\"x\",\"domain\":[0.0,1.0],\"title\":{\"text\":\"Review Count\"}},\"legend\":{\"title\":{\"text\":\"Sentiment\"},\"tracegroupgap\":0},\"title\":{\"text\":\"Review Count by App and Sentiment\"},\"barmode\":\"relative\",\"plot_bgcolor\":\"white\"},                        {\"responsive\": true}                    ).then(function(){\n",
       "                            \n",
       "var gd = document.getElementById('11f72c71-c316-4517-9b45-27952cc3a4bb');\n",
       "var x = new MutationObserver(function (mutations, observer) {{\n",
       "        var display = window.getComputedStyle(gd).display;\n",
       "        if (!display || display === 'none') {{\n",
       "            console.log([gd, 'removed!']);\n",
       "            Plotly.purge(gd);\n",
       "            observer.disconnect();\n",
       "        }}\n",
       "}});\n",
       "\n",
       "// Listen for the removal of the full notebook cells\n",
       "var notebookContainer = gd.closest('#notebook-container');\n",
       "if (notebookContainer) {{\n",
       "    x.observe(notebookContainer, {childList: true});\n",
       "}}\n",
       "\n",
       "// Listen for the clearing of the current output cell\n",
       "var outputEl = gd.closest('.output');\n",
       "if (outputEl) {{\n",
       "    x.observe(outputEl, {childList: true});\n",
       "}}\n",
       "\n",
       "                        })                };                });            </script>        </div>"
      ]
     },
     "metadata": {},
     "output_type": "display_data"
    }
   ],
   "source": [
    "# Create the bar chart using Plotly Express\n",
    "fig = px.bar(sent_df2, x='app', y='content', color='sentiment',\n",
    "             title='Review Count by App and Sentiment',\n",
    "             labels={'app': 'App', 'content': 'Review Count', 'sentiment': 'Sentiment'},\n",
    "             color_discrete_map={'Positive': '#2bd96b', 'Neutral': '#f7b559', 'Negative': '#ad3141'})\n",
    "\n",
    "# Rotate x-axis labels for better readability\n",
    "fig.update_xaxes(tickangle=45)\n",
    "fig.update_layout(plot_bgcolor='white')\n",
    "\n",
    "# Show the plot\n",
    "fig.show()"
   ]
  }
 ],
 "metadata": {
  "kaggle": {
   "accelerator": "none",
   "dataSources": [
    {
     "datasetId": 4454646,
     "sourceId": 7642854,
     "sourceType": "datasetVersion"
    }
   ],
   "dockerImageVersionId": 30646,
   "isGpuEnabled": false,
   "isInternetEnabled": true,
   "language": "python",
   "sourceType": "notebook"
  },
  "kernelspec": {
   "display_name": "Python 3",
   "language": "python",
   "name": "python3"
  },
  "language_info": {
   "codemirror_mode": {
    "name": "ipython",
    "version": 3
   },
   "file_extension": ".py",
   "mimetype": "text/x-python",
   "name": "python",
   "nbconvert_exporter": "python",
   "pygments_lexer": "ipython3",
   "version": "3.10.13"
  },
  "papermill": {
   "default_parameters": {},
   "duration": 388.269631,
   "end_time": "2024-02-22T15:13:00.768750",
   "environment_variables": {},
   "exception": null,
   "input_path": "__notebook__.ipynb",
   "output_path": "__notebook__.ipynb",
   "parameters": {},
   "start_time": "2024-02-22T15:06:32.499119",
   "version": "2.5.0"
  }
 },
 "nbformat": 4,
 "nbformat_minor": 5
}
